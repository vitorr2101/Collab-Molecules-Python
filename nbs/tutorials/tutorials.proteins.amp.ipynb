{
  "cells": [
    {
      "cell_type": "markdown",
      "metadata": {
        "id": "view-in-github",
        "colab_type": "text"
      },
      "source": [
        "<a href=\"https://colab.research.google.com/github/vitorr2101/Collab-Molecules-Python/blob/main/nbs/tutorials/tutorials.proteins.amp.ipynb\" target=\"_parent\"><img src=\"https://colab.research.google.com/assets/colab-badge.svg\" alt=\"Open In Colab\"/></a>"
      ]
    },
    {
      "cell_type": "code",
      "execution_count": 51,
      "metadata": {
        "id": "FXHZ060JVAbQ"
      },
      "outputs": [],
      "source": [
        "# hide\n",
        "# all_tutorial\n",
        "! [ -e /content ] && pip install -Uqq mrl-pypi  # upgrade mrl on colab"
      ]
    },
    {
      "cell_type": "markdown",
      "metadata": {
        "id": "EldhBCkLVAbT"
      },
      "source": [
        "# Antimicrobial Peptide Design\n",
        "\n",
        ">Using MRL to design antimicrobial peptides"
      ]
    },
    {
      "cell_type": "markdown",
      "metadata": {
        "id": "MRFvCp8WVAbV"
      },
      "source": [
        "## Antimicrobial Peptide Design\n",
        "\n",
        "This tutorial runs an end to end workflow for designing antimicrobial peptides using MRL.\n",
        "\n",
        "Antimicrobial peptides are a family of peptides that kill bacteria. These peptides are of interest for antibiotics and anticancer therapeutics"
      ]
    },
    {
      "cell_type": "markdown",
      "metadata": {
        "id": "st6UVxjXVAbW"
      },
      "source": [
        "## Performance Notes\n",
        "\n",
        "The workflow in this notebook is more CPU-constrained than GPU-constrained due to the need to evaluate samples on CPU. If you have a multi-core machine, it is recommended that you uncomment and run the `set_global_pool` cells in the notebook. This will trigger the use of multiprocessing, which will result in 2-4x speedups.\n",
        "\n",
        "This notebook may run slow on Collab due to CPU limitations.\n",
        "\n",
        "If running on Collab, remember to change the runtime to GPU"
      ]
    },
    {
      "cell_type": "code",
      "execution_count": 9,
      "metadata": {
        "id": "cJJeB6YpVAbX"
      },
      "outputs": [],
      "source": [
        "import sys\n",
        "sys.path.append('..')\n",
        "\n",
        "from mrl.imports import *\n",
        "from mrl.core import *\n",
        "from mrl.chem import *\n",
        "from mrl.templates.all import *\n",
        "\n",
        "from mrl.torch_imports import *\n",
        "from mrl.torch_core import *\n",
        "from mrl.layers import *\n",
        "from mrl.dataloaders import *\n",
        "from mrl.g_models.all import *\n",
        "from mrl.vocab import *\n",
        "from mrl.policy_gradient import *\n",
        "from mrl.train.all import *\n",
        "from mrl.model_zoo import *\n",
        "from sklearn.metrics import roc_curve, auc\n",
        "from sklearn.metrics import roc_auc_score"
      ]
    },
    {
      "cell_type": "code",
      "execution_count": 10,
      "metadata": {
        "id": "iKnshPtAVAbZ"
      },
      "outputs": [],
      "source": [
        "os.makedirs('untracked_files', exist_ok=True)"
      ]
    },
    {
      "cell_type": "markdown",
      "metadata": {
        "id": "gReenePVVAba"
      },
      "source": [
        "## Data\n",
        "\n",
        "The dataset comes from the [AMPlify](https://github.com/bcgsc/AMPlify) repo. It contains ~8300 short peptides classified as antimicrobial or not antimicrobial"
      ]
    },
    {
      "cell_type": "code",
      "execution_count": 11,
      "metadata": {
        "id": "3BbF0EmGVAbb"
      },
      "outputs": [],
      "source": [
        "# if in the repo\n",
        "#df = pd.read_csv('../files/anti_microbial_peptides.csv')\n",
        "\n",
        "# if in Collab\n",
        "download_files()\n",
        "df = pd.read_csv('files/anti_microbial_peptides.csv')"
      ]
    },
    {
      "cell_type": "code",
      "execution_count": 12,
      "metadata": {
        "colab": {
          "base_uri": "https://localhost:8080/",
          "height": 206
        },
        "id": "AC0ZyCSJVAbc",
        "outputId": "ed4e202f-04b3-4772-c0be-41f3b10bdf6d"
      },
      "outputs": [
        {
          "output_type": "execute_result",
          "data": {
            "text/plain": [
              "         name                                           sequence dataset  \\\n",
              "0  >trAMP0001                  GLLDTFKNLALNAAKSAGVSVLNSLSCKLSKTC   train   \n",
              "1  >trAMP0002                                  AKKPVAKKAAGGVKKPK   train   \n",
              "2  >trAMP0003                                GIIDIAKKLVGGIRNVLGI   train   \n",
              "3  >trAMP0004  MAGFLKVVQLLAKYGSKAVQWAWANKGKILDWLNAGQAIDWVVSKI...   train   \n",
              "4  >trAMP0005  YGPGDGHGGGHGGGHGGGHGNGQGGGHGHGPGGGFGGGHGGGHGGG...   train   \n",
              "\n",
              "   label  \n",
              "0      1  \n",
              "1      1  \n",
              "2      1  \n",
              "3      1  \n",
              "4      1  "
            ],
            "text/html": [
              "\n",
              "  <div id=\"df-6db4e12a-510a-486c-b4f8-00f1d6035149\" class=\"colab-df-container\">\n",
              "    <div>\n",
              "<style scoped>\n",
              "    .dataframe tbody tr th:only-of-type {\n",
              "        vertical-align: middle;\n",
              "    }\n",
              "\n",
              "    .dataframe tbody tr th {\n",
              "        vertical-align: top;\n",
              "    }\n",
              "\n",
              "    .dataframe thead th {\n",
              "        text-align: right;\n",
              "    }\n",
              "</style>\n",
              "<table border=\"1\" class=\"dataframe\">\n",
              "  <thead>\n",
              "    <tr style=\"text-align: right;\">\n",
              "      <th></th>\n",
              "      <th>name</th>\n",
              "      <th>sequence</th>\n",
              "      <th>dataset</th>\n",
              "      <th>label</th>\n",
              "    </tr>\n",
              "  </thead>\n",
              "  <tbody>\n",
              "    <tr>\n",
              "      <th>0</th>\n",
              "      <td>&gt;trAMP0001</td>\n",
              "      <td>GLLDTFKNLALNAAKSAGVSVLNSLSCKLSKTC</td>\n",
              "      <td>train</td>\n",
              "      <td>1</td>\n",
              "    </tr>\n",
              "    <tr>\n",
              "      <th>1</th>\n",
              "      <td>&gt;trAMP0002</td>\n",
              "      <td>AKKPVAKKAAGGVKKPK</td>\n",
              "      <td>train</td>\n",
              "      <td>1</td>\n",
              "    </tr>\n",
              "    <tr>\n",
              "      <th>2</th>\n",
              "      <td>&gt;trAMP0003</td>\n",
              "      <td>GIIDIAKKLVGGIRNVLGI</td>\n",
              "      <td>train</td>\n",
              "      <td>1</td>\n",
              "    </tr>\n",
              "    <tr>\n",
              "      <th>3</th>\n",
              "      <td>&gt;trAMP0004</td>\n",
              "      <td>MAGFLKVVQLLAKYGSKAVQWAWANKGKILDWLNAGQAIDWVVSKI...</td>\n",
              "      <td>train</td>\n",
              "      <td>1</td>\n",
              "    </tr>\n",
              "    <tr>\n",
              "      <th>4</th>\n",
              "      <td>&gt;trAMP0005</td>\n",
              "      <td>YGPGDGHGGGHGGGHGGGHGNGQGGGHGHGPGGGFGGGHGGGHGGG...</td>\n",
              "      <td>train</td>\n",
              "      <td>1</td>\n",
              "    </tr>\n",
              "  </tbody>\n",
              "</table>\n",
              "</div>\n",
              "    <div class=\"colab-df-buttons\">\n",
              "\n",
              "  <div class=\"colab-df-container\">\n",
              "    <button class=\"colab-df-convert\" onclick=\"convertToInteractive('df-6db4e12a-510a-486c-b4f8-00f1d6035149')\"\n",
              "            title=\"Convert this dataframe to an interactive table.\"\n",
              "            style=\"display:none;\">\n",
              "\n",
              "  <svg xmlns=\"http://www.w3.org/2000/svg\" height=\"24px\" viewBox=\"0 -960 960 960\">\n",
              "    <path d=\"M120-120v-720h720v720H120Zm60-500h600v-160H180v160Zm220 220h160v-160H400v160Zm0 220h160v-160H400v160ZM180-400h160v-160H180v160Zm440 0h160v-160H620v160ZM180-180h160v-160H180v160Zm440 0h160v-160H620v160Z\"/>\n",
              "  </svg>\n",
              "    </button>\n",
              "\n",
              "  <style>\n",
              "    .colab-df-container {\n",
              "      display:flex;\n",
              "      gap: 12px;\n",
              "    }\n",
              "\n",
              "    .colab-df-convert {\n",
              "      background-color: #E8F0FE;\n",
              "      border: none;\n",
              "      border-radius: 50%;\n",
              "      cursor: pointer;\n",
              "      display: none;\n",
              "      fill: #1967D2;\n",
              "      height: 32px;\n",
              "      padding: 0 0 0 0;\n",
              "      width: 32px;\n",
              "    }\n",
              "\n",
              "    .colab-df-convert:hover {\n",
              "      background-color: #E2EBFA;\n",
              "      box-shadow: 0px 1px 2px rgba(60, 64, 67, 0.3), 0px 1px 3px 1px rgba(60, 64, 67, 0.15);\n",
              "      fill: #174EA6;\n",
              "    }\n",
              "\n",
              "    .colab-df-buttons div {\n",
              "      margin-bottom: 4px;\n",
              "    }\n",
              "\n",
              "    [theme=dark] .colab-df-convert {\n",
              "      background-color: #3B4455;\n",
              "      fill: #D2E3FC;\n",
              "    }\n",
              "\n",
              "    [theme=dark] .colab-df-convert:hover {\n",
              "      background-color: #434B5C;\n",
              "      box-shadow: 0px 1px 3px 1px rgba(0, 0, 0, 0.15);\n",
              "      filter: drop-shadow(0px 1px 2px rgba(0, 0, 0, 0.3));\n",
              "      fill: #FFFFFF;\n",
              "    }\n",
              "  </style>\n",
              "\n",
              "    <script>\n",
              "      const buttonEl =\n",
              "        document.querySelector('#df-6db4e12a-510a-486c-b4f8-00f1d6035149 button.colab-df-convert');\n",
              "      buttonEl.style.display =\n",
              "        google.colab.kernel.accessAllowed ? 'block' : 'none';\n",
              "\n",
              "      async function convertToInteractive(key) {\n",
              "        const element = document.querySelector('#df-6db4e12a-510a-486c-b4f8-00f1d6035149');\n",
              "        const dataTable =\n",
              "          await google.colab.kernel.invokeFunction('convertToInteractive',\n",
              "                                                    [key], {});\n",
              "        if (!dataTable) return;\n",
              "\n",
              "        const docLinkHtml = 'Like what you see? Visit the ' +\n",
              "          '<a target=\"_blank\" href=https://colab.research.google.com/notebooks/data_table.ipynb>data table notebook</a>'\n",
              "          + ' to learn more about interactive tables.';\n",
              "        element.innerHTML = '';\n",
              "        dataTable['output_type'] = 'display_data';\n",
              "        await google.colab.output.renderOutput(dataTable, element);\n",
              "        const docLink = document.createElement('div');\n",
              "        docLink.innerHTML = docLinkHtml;\n",
              "        element.appendChild(docLink);\n",
              "      }\n",
              "    </script>\n",
              "  </div>\n",
              "\n",
              "\n",
              "<div id=\"df-6fa7fdb5-27b8-440f-a039-cd8900303f16\">\n",
              "  <button class=\"colab-df-quickchart\" onclick=\"quickchart('df-6fa7fdb5-27b8-440f-a039-cd8900303f16')\"\n",
              "            title=\"Suggest charts\"\n",
              "            style=\"display:none;\">\n",
              "\n",
              "<svg xmlns=\"http://www.w3.org/2000/svg\" height=\"24px\"viewBox=\"0 0 24 24\"\n",
              "     width=\"24px\">\n",
              "    <g>\n",
              "        <path d=\"M19 3H5c-1.1 0-2 .9-2 2v14c0 1.1.9 2 2 2h14c1.1 0 2-.9 2-2V5c0-1.1-.9-2-2-2zM9 17H7v-7h2v7zm4 0h-2V7h2v10zm4 0h-2v-4h2v4z\"/>\n",
              "    </g>\n",
              "</svg>\n",
              "  </button>\n",
              "\n",
              "<style>\n",
              "  .colab-df-quickchart {\n",
              "      --bg-color: #E8F0FE;\n",
              "      --fill-color: #1967D2;\n",
              "      --hover-bg-color: #E2EBFA;\n",
              "      --hover-fill-color: #174EA6;\n",
              "      --disabled-fill-color: #AAA;\n",
              "      --disabled-bg-color: #DDD;\n",
              "  }\n",
              "\n",
              "  [theme=dark] .colab-df-quickchart {\n",
              "      --bg-color: #3B4455;\n",
              "      --fill-color: #D2E3FC;\n",
              "      --hover-bg-color: #434B5C;\n",
              "      --hover-fill-color: #FFFFFF;\n",
              "      --disabled-bg-color: #3B4455;\n",
              "      --disabled-fill-color: #666;\n",
              "  }\n",
              "\n",
              "  .colab-df-quickchart {\n",
              "    background-color: var(--bg-color);\n",
              "    border: none;\n",
              "    border-radius: 50%;\n",
              "    cursor: pointer;\n",
              "    display: none;\n",
              "    fill: var(--fill-color);\n",
              "    height: 32px;\n",
              "    padding: 0;\n",
              "    width: 32px;\n",
              "  }\n",
              "\n",
              "  .colab-df-quickchart:hover {\n",
              "    background-color: var(--hover-bg-color);\n",
              "    box-shadow: 0 1px 2px rgba(60, 64, 67, 0.3), 0 1px 3px 1px rgba(60, 64, 67, 0.15);\n",
              "    fill: var(--button-hover-fill-color);\n",
              "  }\n",
              "\n",
              "  .colab-df-quickchart-complete:disabled,\n",
              "  .colab-df-quickchart-complete:disabled:hover {\n",
              "    background-color: var(--disabled-bg-color);\n",
              "    fill: var(--disabled-fill-color);\n",
              "    box-shadow: none;\n",
              "  }\n",
              "\n",
              "  .colab-df-spinner {\n",
              "    border: 2px solid var(--fill-color);\n",
              "    border-color: transparent;\n",
              "    border-bottom-color: var(--fill-color);\n",
              "    animation:\n",
              "      spin 1s steps(1) infinite;\n",
              "  }\n",
              "\n",
              "  @keyframes spin {\n",
              "    0% {\n",
              "      border-color: transparent;\n",
              "      border-bottom-color: var(--fill-color);\n",
              "      border-left-color: var(--fill-color);\n",
              "    }\n",
              "    20% {\n",
              "      border-color: transparent;\n",
              "      border-left-color: var(--fill-color);\n",
              "      border-top-color: var(--fill-color);\n",
              "    }\n",
              "    30% {\n",
              "      border-color: transparent;\n",
              "      border-left-color: var(--fill-color);\n",
              "      border-top-color: var(--fill-color);\n",
              "      border-right-color: var(--fill-color);\n",
              "    }\n",
              "    40% {\n",
              "      border-color: transparent;\n",
              "      border-right-color: var(--fill-color);\n",
              "      border-top-color: var(--fill-color);\n",
              "    }\n",
              "    60% {\n",
              "      border-color: transparent;\n",
              "      border-right-color: var(--fill-color);\n",
              "    }\n",
              "    80% {\n",
              "      border-color: transparent;\n",
              "      border-right-color: var(--fill-color);\n",
              "      border-bottom-color: var(--fill-color);\n",
              "    }\n",
              "    90% {\n",
              "      border-color: transparent;\n",
              "      border-bottom-color: var(--fill-color);\n",
              "    }\n",
              "  }\n",
              "</style>\n",
              "\n",
              "  <script>\n",
              "    async function quickchart(key) {\n",
              "      const quickchartButtonEl =\n",
              "        document.querySelector('#' + key + ' button');\n",
              "      quickchartButtonEl.disabled = true;  // To prevent multiple clicks.\n",
              "      quickchartButtonEl.classList.add('colab-df-spinner');\n",
              "      try {\n",
              "        const charts = await google.colab.kernel.invokeFunction(\n",
              "            'suggestCharts', [key], {});\n",
              "      } catch (error) {\n",
              "        console.error('Error during call to suggestCharts:', error);\n",
              "      }\n",
              "      quickchartButtonEl.classList.remove('colab-df-spinner');\n",
              "      quickchartButtonEl.classList.add('colab-df-quickchart-complete');\n",
              "    }\n",
              "    (() => {\n",
              "      let quickchartButtonEl =\n",
              "        document.querySelector('#df-6fa7fdb5-27b8-440f-a039-cd8900303f16 button');\n",
              "      quickchartButtonEl.style.display =\n",
              "        google.colab.kernel.accessAllowed ? 'block' : 'none';\n",
              "    })();\n",
              "  </script>\n",
              "</div>\n",
              "\n",
              "    </div>\n",
              "  </div>\n"
            ],
            "application/vnd.google.colaboratory.intrinsic+json": {
              "type": "dataframe",
              "variable_name": "df",
              "summary": "{\n  \"name\": \"df\",\n  \"rows\": 8346,\n  \"fields\": [\n    {\n      \"column\": \"name\",\n      \"properties\": {\n        \"dtype\": \"string\",\n        \"num_unique_values\": 8346,\n        \"samples\": [\n          \">trAMP2681\",\n          \">trAMP2511\",\n          \">trNEGATIVE2731\"\n        ],\n        \"semantic_type\": \"\",\n        \"description\": \"\"\n      }\n    },\n    {\n      \"column\": \"sequence\",\n      \"properties\": {\n        \"dtype\": \"string\",\n        \"num_unique_values\": 8346,\n        \"samples\": [\n          \"VWPLGLVICKALKIC\",\n          \"SSSLLNTAWRKFG\",\n          \"MFAGLPSLSHEQQQKAVERI\"\n        ],\n        \"semantic_type\": \"\",\n        \"description\": \"\"\n      }\n    },\n    {\n      \"column\": \"dataset\",\n      \"properties\": {\n        \"dtype\": \"category\",\n        \"num_unique_values\": 2,\n        \"samples\": [\n          \"valid\",\n          \"train\"\n        ],\n        \"semantic_type\": \"\",\n        \"description\": \"\"\n      }\n    },\n    {\n      \"column\": \"label\",\n      \"properties\": {\n        \"dtype\": \"number\",\n        \"std\": 0,\n        \"min\": 0,\n        \"max\": 1,\n        \"num_unique_values\": 2,\n        \"samples\": [\n          0,\n          1\n        ],\n        \"semantic_type\": \"\",\n        \"description\": \"\"\n      }\n    }\n  ]\n}"
            }
          },
          "metadata": {},
          "execution_count": 12
        }
      ],
      "source": [
        "df.head()"
      ]
    },
    {
      "cell_type": "markdown",
      "metadata": {
        "id": "2fl-Cu_QVAbc"
      },
      "source": [
        "Most peptides are short, less than 50 amino acids"
      ]
    },
    {
      "cell_type": "code",
      "execution_count": 13,
      "metadata": {
        "colab": {
          "base_uri": "https://localhost:8080/",
          "height": 449
        },
        "id": "90yz7H7qVAbd",
        "outputId": "541ae32f-b60e-421b-cc21-fd26235d4bc8"
      },
      "outputs": [
        {
          "output_type": "execute_result",
          "data": {
            "text/plain": [
              "<Axes: >"
            ]
          },
          "metadata": {},
          "execution_count": 13
        },
        {
          "output_type": "display_data",
          "data": {
            "text/plain": [
              "<Figure size 640x480 with 1 Axes>"
            ],
            "image/png": "[encoded data removed]"
          },
          "metadata": {}
        }
      ],
      "source": [
        "df.sequence.map(lambda x: len(x)).hist()"
      ]
    },
    {
      "cell_type": "markdown",
      "metadata": {
        "id": "-m648R3UVAbe"
      },
      "source": [
        "## Score Function\n",
        "\n",
        "Now we want to develop a score function for predicting antimicrobial activity. We will use a CNN encoder with a MLP head to predict a binary classification value for antimicrobial activity.\n",
        "\n",
        "Our input data will be token integers for amino acids. Note that fingerprint representations are a poor fit for peptide work because peptides contain many repeating substructures.\n",
        "\n",
        "We will train on 95% of the data and validate on the 5% held out."
      ]
    },
    {
      "cell_type": "code",
      "execution_count": 14,
      "metadata": {
        "id": "Yzrt5QLIVAbf"
      },
      "outputs": [],
      "source": [
        "train_df = df[df.dataset=='train']\n",
        "valid_df = df[df.dataset=='valid']"
      ]
    },
    {
      "cell_type": "code",
      "execution_count": 15,
      "metadata": {
        "id": "RI6EKDjzVAbf"
      },
      "outputs": [],
      "source": [
        "aa_vocab = CharacterVocab(AMINO_ACID_VOCAB)\n",
        "\n",
        "amp_ds = Text_Prediction_Dataset(train_df.sequence.values, train_df.label.values, aa_vocab)\n",
        "test_ds = Text_Prediction_Dataset(valid_df.sequence.values, valid_df.label.values, aa_vocab)"
      ]
    },
    {
      "cell_type": "markdown",
      "metadata": {
        "id": "pnxgVqxjVAbg"
      },
      "source": [
        "This is the model we will use:"
      ]
    },
    {
      "cell_type": "code",
      "execution_count": 16,
      "metadata": {
        "id": "WnEUrptdVAbg"
      },
      "outputs": [],
      "source": [
        "class Predictive_CNN(nn.Module):\n",
        "    def __init__(self,\n",
        "                 d_vocab,\n",
        "                 d_embedding,\n",
        "                 d_latent,\n",
        "                 filters,\n",
        "                 kernel_sizes,\n",
        "                 strides,\n",
        "                 dropouts,\n",
        "                 mlp_dims,\n",
        "                 mlp_drops,\n",
        "                 d_out\n",
        "                ):\n",
        "        super().__init__()\n",
        "\n",
        "        self.conv_encoder = Conv_Encoder(\n",
        "                                        d_vocab,\n",
        "                                        d_embedding,\n",
        "                                        d_latent,\n",
        "                                        filters,\n",
        "                                        kernel_sizes,\n",
        "                                        strides,\n",
        "                                        dropouts,\n",
        "                                    )\n",
        "\n",
        "        self.mlp_head = MLP(\n",
        "                            d_latent,\n",
        "                            mlp_dims,\n",
        "                            d_out,\n",
        "                            mlp_drops\n",
        "                            )\n",
        "\n",
        "    def forward(self, x):\n",
        "        encoded = self.conv_encoder(x)\n",
        "        out = self.mlp_head(encoded)\n",
        "        return out"
      ]
    },
    {
      "cell_type": "code",
      "execution_count": 17,
      "metadata": {
        "id": "PIVTgDicVAbg"
      },
      "outputs": [],
      "source": [
        "d_vocab = len(aa_vocab.itos)\n",
        "d_embedding = 256\n",
        "d_latent = 512\n",
        "filters = [256, 512, 1024]\n",
        "kernel_sizes = [7, 7, 7]\n",
        "strides = [2,2,2]\n",
        "dropouts = [0.2, 0.2, 0.2]\n",
        "mlp_dims = [512, 256, 128]\n",
        "mlp_drops = [0.2, 0.2, 0.2]\n",
        "d_out = 1\n",
        "\n",
        "\n",
        "amp_model = Predictive_CNN(\n",
        "                    d_vocab,\n",
        "                    d_embedding,\n",
        "                    d_latent,\n",
        "                    filters,\n",
        "                    kernel_sizes,\n",
        "                    strides,\n",
        "                    dropouts,\n",
        "                    mlp_dims,\n",
        "                    mlp_drops,\n",
        "                    d_out\n",
        "                )"
      ]
    },
    {
      "cell_type": "code",
      "execution_count": 18,
      "metadata": {
        "id": "pHtWwJ5LVAbh"
      },
      "outputs": [],
      "source": [
        "r_agent = PredictiveAgent(amp_model, BinaryCrossEntropy(), amp_ds, opt_kwargs={'lr':1e-3})"
      ]
    },
    {
      "cell_type": "code",
      "execution_count": 52,
      "metadata": {
        "colab": {
          "base_uri": "https://localhost:8080/"
        },
        "id": "XnZ_yHMFVAbh",
        "outputId": "f51c3c72-5c67-4ca7-adaa-91e2ff01c73d"
      },
      "outputs": [
        {
          "output_type": "stream",
          "name": "stdout",
          "text": [
            "Name: mrl-pypi\n",
            "Version: 0.1.5\n",
            "Summary: Molecular reinforcement learning\n",
            "Home-page: https://github.com/DarkMatterAI/mrl/tree/main/\n",
            "Author: Karl Heyer\n",
            "Author-email: karl@darkmatterai.co\n",
            "License: MIT License\n",
            "Location: /usr/local/lib/python3.11/dist-packages\n",
            "Requires: fastprogress, matplotlib, networkx, numba, numpy, pandas, rdkit-pypi, requests, scikit-learn, scipy, selfies, torch\n",
            "Required-by: \n"
          ]
        }
      ],
      "source": [
        "!pip show mrl-pypi\n"
      ]
    },
    {
      "cell_type": "code",
      "execution_count": 19,
      "metadata": {
        "colab": {
          "base_uri": "https://localhost:8080/",
          "height": 425
        },
        "id": "oBIv7aYFVAbh",
        "outputId": "6886a7a4-116e-4022-a354-7e8406afe10f"
      },
      "outputs": [
        {
          "output_type": "display_data",
          "data": {
            "text/plain": [
              "<IPython.core.display.HTML object>"
            ],
            "text/html": [
              "\n",
              "<style>\n",
              "    /* Turns off some styling */\n",
              "    progress {\n",
              "        /* gets rid of default border in Firefox and Opera. */\n",
              "        border: none;\n",
              "        /* Needs to be in here for Safari polyfill so background images work as expected. */\n",
              "        background-size: auto;\n",
              "    }\n",
              "    progress:not([value]), progress:not([value])::-webkit-progress-bar {\n",
              "        background: repeating-linear-gradient(45deg, #7e7e7e, #7e7e7e 10px, #5c5c5c 10px, #5c5c5c 20px);\n",
              "    }\n",
              "    .progress-bar-interrupted, .progress-bar-interrupted::-webkit-progress-bar {\n",
              "        background: #F44336;\n",
              "    }\n",
              "</style>\n"
            ]
          },
          "metadata": {}
        },
        {
          "output_type": "display_data",
          "data": {
            "text/plain": [
              "<IPython.core.display.HTML object>"
            ],
            "text/html": [
              "<table border=\"1\" class=\"dataframe\">\n",
              "  <thead>\n",
              "    <tr style=\"text-align: left;\">\n",
              "      <th>Epoch</th>\n",
              "      <th>Train Loss</th>\n",
              "      <th>Valid  Loss</th>\n",
              "      <th>Time</th>\n",
              "    </tr>\n",
              "  </thead>\n",
              "  <tbody>\n",
              "    <tr>\n",
              "      <td>0</td>\n",
              "      <td>0.44573</td>\n",
              "      <td>0.42074</td>\n",
              "      <td>00:30</td>\n",
              "    </tr>\n",
              "    <tr>\n",
              "      <td>1</td>\n",
              "      <td>0.33786</td>\n",
              "      <td>0.40817</td>\n",
              "      <td>00:04</td>\n",
              "    </tr>\n",
              "    <tr>\n",
              "      <td>2</td>\n",
              "      <td>0.36510</td>\n",
              "      <td>0.39071</td>\n",
              "      <td>00:03</td>\n",
              "    </tr>\n",
              "    <tr>\n",
              "      <td>3</td>\n",
              "      <td>0.31430</td>\n",
              "      <td>0.40391</td>\n",
              "      <td>00:03</td>\n",
              "    </tr>\n",
              "    <tr>\n",
              "      <td>4</td>\n",
              "      <td>0.27319</td>\n",
              "      <td>0.82923</td>\n",
              "      <td>00:02</td>\n",
              "    </tr>\n",
              "    <tr>\n",
              "      <td>5</td>\n",
              "      <td>0.25558</td>\n",
              "      <td>0.36243</td>\n",
              "      <td>00:03</td>\n",
              "    </tr>\n",
              "    <tr>\n",
              "      <td>6</td>\n",
              "      <td>0.21361</td>\n",
              "      <td>0.34437</td>\n",
              "      <td>00:02</td>\n",
              "    </tr>\n",
              "    <tr>\n",
              "      <td>7</td>\n",
              "      <td>0.18994</td>\n",
              "      <td>0.33318</td>\n",
              "      <td>00:03</td>\n",
              "    </tr>\n",
              "    <tr>\n",
              "      <td>8</td>\n",
              "      <td>0.14902</td>\n",
              "      <td>0.35111</td>\n",
              "      <td>00:02</td>\n",
              "    </tr>\n",
              "    <tr>\n",
              "      <td>9</td>\n",
              "      <td>0.10660</td>\n",
              "      <td>0.37424</td>\n",
              "      <td>00:03</td>\n",
              "    </tr>\n",
              "    <tr>\n",
              "      <td>10</td>\n",
              "      <td>0.07405</td>\n",
              "      <td>0.35165</td>\n",
              "      <td>00:03</td>\n",
              "    </tr>\n",
              "    <tr>\n",
              "      <td>11</td>\n",
              "      <td>0.06884</td>\n",
              "      <td>0.36614</td>\n",
              "      <td>00:03</td>\n",
              "    </tr>\n",
              "  </tbody>\n",
              "</table>"
            ]
          },
          "metadata": {}
        }
      ],
      "source": [
        "r_agent.train_supervised(32, 12, 1e-3)"
      ]
    },
    {
      "cell_type": "markdown",
      "metadata": {
        "id": "4lxg1hxpVAbi"
      },
      "source": [
        "Optional: save score function weights"
      ]
    },
    {
      "cell_type": "code",
      "execution_count": 20,
      "metadata": {
        "id": "eEZ0WLwwVAbi"
      },
      "outputs": [],
      "source": [
        "r_agent.save_weights('untracked_files/amp_predictor.pt')"
      ]
    },
    {
      "cell_type": "markdown",
      "metadata": {
        "id": "1OFgQKaQVAbi"
      },
      "source": [
        "Optional: to load the exact weights used, run the following:"
      ]
    },
    {
      "cell_type": "code",
      "execution_count": 21,
      "metadata": {
        "id": "qH96XGpHVAbj"
      },
      "outputs": [],
      "source": [
        "r_agent.load_state_dict(model_from_url('amp_predictor.pt'))"
      ]
    },
    {
      "cell_type": "code",
      "execution_count": 49,
      "metadata": {
        "colab": {
          "base_uri": "https://localhost:8080/"
        },
        "id": "jI4HrdcnVAbj",
        "outputId": "3f538ff7-7151-4360-b6ea-371258982675"
      },
      "outputs": [
        {
          "output_type": "stream",
          "name": "stdout",
          "text": [
            "\u001b[33mWARNING: Package(s) not found: mrl\u001b[0m\u001b[33m\n",
            "\u001b[0m"
          ]
        }
      ],
      "source": [
        "!pip show mrl"
      ]
    },
    {
      "cell_type": "code",
      "execution_count": 22,
      "metadata": {
        "id": "GjzqyNYvVAbj"
      },
      "outputs": [],
      "source": [
        "# validate\n",
        "\n",
        "valid_dl = test_ds.dataloader(256, shuffle=False)\n",
        "r_agent.model.eval();\n",
        "\n",
        "preds = []\n",
        "targs = []\n",
        "\n",
        "with torch.no_grad():\n",
        "    for i, batch in enumerate(valid_dl):\n",
        "        batch = to_device(batch)\n",
        "        x,y = batch\n",
        "        pred = r_agent.model(x)\n",
        "        preds.append(pred.detach().cpu())\n",
        "        targs.append(y.detach().cpu())\n",
        "\n",
        "preds = torch.cat(preds).numpy()\n",
        "targs = torch.cat(targs).numpy()"
      ]
    },
    {
      "cell_type": "code",
      "execution_count": 23,
      "metadata": {
        "colab": {
          "base_uri": "https://localhost:8080/",
          "height": 472
        },
        "id": "gMJ34UkTVAbj",
        "outputId": "67a37cae-75d4-44d0-feb4-6844b7299482"
      },
      "outputs": [
        {
          "output_type": "display_data",
          "data": {
            "text/plain": [
              "<Figure size 640x480 with 1 Axes>"
            ],
            "image/png": "[encoded data removed]"
          },
          "metadata": {}
        }
      ],
      "source": [
        "fpr, tpr, _ = roc_curve(targs, torch.tensor(preds).sigmoid().squeeze().numpy())\n",
        "roc_auc = auc(fpr, tpr)\n",
        "\n",
        "plt.figure()\n",
        "lw = 2\n",
        "plt.plot(fpr, tpr, color='darkorange',\n",
        "         lw=lw, label='ROC curve (area = %0.4f)' % roc_auc)\n",
        "plt.plot([0, 1], [0, 1], color='navy', lw=lw, linestyle='--')\n",
        "plt.xlim([0.0, 1.0])\n",
        "plt.ylim([0.0, 1.05])\n",
        "plt.xlabel('False Positive Rate')\n",
        "plt.ylabel('True Positive Rate')\n",
        "plt.title('Receiver operating characteristic example')\n",
        "plt.legend(loc=\"lower right\")\n",
        "plt.show()"
      ]
    },
    {
      "cell_type": "markdown",
      "metadata": {
        "id": "XH-shTYiVAbk"
      },
      "source": [
        "## Chemical Space\n",
        "\n",
        "Next we need to develop our chemical space. This is where we decide what sequences will be allowed and what sequences will be removed.\n",
        "\n",
        "Getting the right filtering parameters makes a huge difference in sequence quality. In practice, finding the right constraints is an interative process. First run a generative screen. Then examine the highest scoring sequences and look for undesirable properties or structural features. Then update the template and iterate.\n",
        "\n",
        "For peptides, the presence of Arginine has shown to be toxic [[ref](https://www.ncbi.nlm.nih.gov/pmc/articles/PMC5625148/)]. We will apply a template filter for the number of Arginine residues per unit length.\n",
        "\n",
        "We will also limit the maximum residue frequency in a sample to 0.4. This prevents a common failure mode of seeing the same residue repeated multiple times (ie `MSSSSSSSRP`). This is a flaw in the simplistic score functions we are using"
      ]
    },
    {
      "cell_type": "code",
      "execution_count": 24,
      "metadata": {
        "id": "vF40cjr_VAbk"
      },
      "outputs": [],
      "source": [
        "aa_vocab = CharacterVocab(AMINO_ACID_VOCAB)\n",
        "\n",
        "template = Template([ValidityFilter(),\n",
        "                     CharacterCountFilter(['A'], min_val=0, max_val=0.1, per_length=True, mode='protein'),\n",
        "                     CharacterCountFilter(aa_vocab.itos[4:], min_val=0, max_val=0.3,\n",
        "                                          per_length=True, mode='protein')],\n",
        "                    [], fail_score=-10., log=False, use_lookup=False, mode='protein')\n",
        "\n",
        "template_cb = TemplateCallback(template, prefilter=True)"
      ]
    },
    {
      "cell_type": "markdown",
      "metadata": {
        "id": "Tibjt621VAbl"
      },
      "source": [
        "## Load Model\n",
        "\n",
        "We load the `LSTM_LM_Small_Swissprot` model. This is a basic LSTM-based language model trained on part of the Swissprot protein database"
      ]
    },
    {
      "cell_type": "code",
      "execution_count": 25,
      "metadata": {
        "colab": {
          "base_uri": "https://localhost:8080/"
        },
        "id": "GfyG_8R5VAbl",
        "outputId": "6118cd53-ea9b-4497-dcbc-494b0f4183d2"
      },
      "outputs": [
        {
          "output_type": "stream",
          "name": "stderr",
          "text": [
            "Downloading: \"https://dmai-mrl.s3.amazonaws.com/mrl_public/lstmlm_small_swissprot.pt\" to /root/.cache/torch/hub/checkpoints/lstmlm_small_swissprot.pt\n",
            "100%|██████████| 57.1M/57.1M [00:06<00:00, 9.52MB/s]\n"
          ]
        }
      ],
      "source": [
        "agent = LSTM_LM_Small_Swissprot(drop_scale=0.3, opt_kwargs={'lr':1e-4})"
      ]
    },
    {
      "cell_type": "markdown",
      "metadata": {
        "id": "2vGtXFXDVAbm"
      },
      "source": [
        "## Fine-Tune Model\n",
        "\n",
        "The pretrained model we loaded is a very general model that can produce a high diversity of structures. However, what we actually want are structues with antimicrobial activity. To induce this, we fine-tune on the active peptides in the dataset"
      ]
    },
    {
      "cell_type": "code",
      "execution_count": 26,
      "metadata": {
        "colab": {
          "base_uri": "https://localhost:8080/",
          "height": 300
        },
        "id": "0oEnTQvhVAbm",
        "outputId": "0003c2b2-ee76-416b-c28b-65d72266b2c3"
      },
      "outputs": [
        {
          "output_type": "display_data",
          "data": {
            "text/plain": [
              "<IPython.core.display.HTML object>"
            ],
            "text/html": [
              "\n",
              "<style>\n",
              "    /* Turns off some styling */\n",
              "    progress {\n",
              "        /* gets rid of default border in Firefox and Opera. */\n",
              "        border: none;\n",
              "        /* Needs to be in here for Safari polyfill so background images work as expected. */\n",
              "        background-size: auto;\n",
              "    }\n",
              "    progress:not([value]), progress:not([value])::-webkit-progress-bar {\n",
              "        background: repeating-linear-gradient(45deg, #7e7e7e, #7e7e7e 10px, #5c5c5c 10px, #5c5c5c 20px);\n",
              "    }\n",
              "    .progress-bar-interrupted, .progress-bar-interrupted::-webkit-progress-bar {\n",
              "        background: #F44336;\n",
              "    }\n",
              "</style>\n"
            ]
          },
          "metadata": {}
        },
        {
          "output_type": "display_data",
          "data": {
            "text/plain": [
              "<IPython.core.display.HTML object>"
            ],
            "text/html": [
              "<table border=\"1\" class=\"dataframe\">\n",
              "  <thead>\n",
              "    <tr style=\"text-align: left;\">\n",
              "      <th>Epoch</th>\n",
              "      <th>Train Loss</th>\n",
              "      <th>Valid  Loss</th>\n",
              "      <th>Time</th>\n",
              "    </tr>\n",
              "  </thead>\n",
              "  <tbody>\n",
              "    <tr>\n",
              "      <td>0</td>\n",
              "      <td>1.03417</td>\n",
              "      <td>1.15378</td>\n",
              "      <td>00:13</td>\n",
              "    </tr>\n",
              "    <tr>\n",
              "      <td>1</td>\n",
              "      <td>0.95779</td>\n",
              "      <td>1.05596</td>\n",
              "      <td>00:13</td>\n",
              "    </tr>\n",
              "    <tr>\n",
              "      <td>2</td>\n",
              "      <td>0.92357</td>\n",
              "      <td>0.99386</td>\n",
              "      <td>00:13</td>\n",
              "    </tr>\n",
              "    <tr>\n",
              "      <td>3</td>\n",
              "      <td>0.86157</td>\n",
              "      <td>0.97838</td>\n",
              "      <td>00:13</td>\n",
              "    </tr>\n",
              "    <tr>\n",
              "      <td>4</td>\n",
              "      <td>0.86165</td>\n",
              "      <td>0.96940</td>\n",
              "      <td>00:14</td>\n",
              "    </tr>\n",
              "    <tr>\n",
              "      <td>5</td>\n",
              "      <td>0.86595</td>\n",
              "      <td>0.96444</td>\n",
              "      <td>00:13</td>\n",
              "    </tr>\n",
              "    <tr>\n",
              "      <td>6</td>\n",
              "      <td>0.84106</td>\n",
              "      <td>0.96210</td>\n",
              "      <td>00:13</td>\n",
              "    </tr>\n",
              "    <tr>\n",
              "      <td>7</td>\n",
              "      <td>0.87597</td>\n",
              "      <td>0.96190</td>\n",
              "      <td>00:13</td>\n",
              "    </tr>\n",
              "  </tbody>\n",
              "</table>"
            ]
          },
          "metadata": {}
        }
      ],
      "source": [
        "agent.update_dataset_from_inputs(df[df.label==1].sequence.values)\n",
        "agent.train_supervised(32, 8, 5e-5)\n",
        "agent.base_to_model()"
      ]
    },
    {
      "cell_type": "markdown",
      "metadata": {
        "id": "b62433yqVAbn"
      },
      "source": [
        "Optional: save fine-tuned weights"
      ]
    },
    {
      "cell_type": "code",
      "execution_count": 27,
      "metadata": {
        "id": "A89dtO_2VAbn"
      },
      "outputs": [],
      "source": [
        "agent.save_weights('untracked_files/finetuned_model.pt')"
      ]
    },
    {
      "cell_type": "code",
      "execution_count": 28,
      "metadata": {
        "id": "R0dMVKkEVAbn"
      },
      "outputs": [],
      "source": [
        "agent.load_weights('untracked_files/finetuned_model.pt')"
      ]
    },
    {
      "cell_type": "markdown",
      "metadata": {
        "id": "OQbGvt-gVAbn"
      },
      "source": [
        "# Reinforcement Learning\n",
        "\n",
        "Now we enter the reinforcement learning stage"
      ]
    },
    {
      "cell_type": "markdown",
      "metadata": {
        "id": "1fXMA-VPVAbo"
      },
      "source": [
        "### Loss\n",
        "\n",
        "We use `PPO` as our policy gradient loss"
      ]
    },
    {
      "cell_type": "code",
      "execution_count": 29,
      "metadata": {
        "id": "N9CL7xbSVAbo"
      },
      "outputs": [],
      "source": [
        "pg = PPO(0.99,\n",
        "        0.5,\n",
        "        lam=0.95,\n",
        "        v_coef=0.5,\n",
        "        cliprange=0.3,\n",
        "        v_cliprange=0.3,\n",
        "        ent_coef=0.01,\n",
        "        kl_target=0.03,\n",
        "        kl_horizon=3000,\n",
        "        scale_rewards=True)\n",
        "\n",
        "loss = PolicyLoss(pg, 'PPO',\n",
        "                   value_head=ValueHead(256),\n",
        "                   v_update_iter=2,\n",
        "                   vopt_kwargs={'lr':1e-3})"
      ]
    },
    {
      "cell_type": "markdown",
      "metadata": {
        "id": "nbnHKr-UVAby"
      },
      "source": [
        "### Reward\n",
        "\n",
        "Here we pass the reward agent we trained earlier to a callback.\n",
        "\n",
        "Since our model is a classification model, we have a decision with respect to what value we output from our score function. We could output the raw logit value from the model, or the sigmoid-scaled classification prediction.\n",
        "\n",
        "If we use the sigmoid-scaled output, we tend to get lots of samples with scores in the `0.999` range that only differ by a very small amount. This can make it difficult to differentiate the true winners.\n",
        "\n",
        "If we use the logit output, we can get much better differentiation of samples at the top end. However, we have a much higher chance of finding weird samples that get absurd logit values.\n",
        "\n",
        "The code below uses the raw logit value, clipped to a range of `[-10, 10]`"
      ]
    },
    {
      "cell_type": "code",
      "execution_count": 33,
      "metadata": {
        "colab": {
          "base_uri": "https://localhost:8080/"
        },
        "id": "eBE_6BE9VAby",
        "outputId": "0d7c65e3-a611-4133-eab1-ab888399ad6f"
      },
      "outputs": [
        {
          "output_type": "stream",
          "name": "stderr",
          "text": [
            "Downloading: \"https://dmai-mrl.s3.amazonaws.com/mrl_public/amp_predictor.pt\" to /root/.cache/torch/hub/checkpoints/amp_predictor.pt\n",
            "100%|██████████| 23.0M/23.0M [00:02<00:00, 9.67MB/s]\n"
          ]
        }
      ],
      "source": [
        "d_vocab = len(aa_vocab.itos)\n",
        "d_embedding = 256\n",
        "d_latent = 512\n",
        "filters = [256, 512, 1024]\n",
        "kernel_sizes = [7, 7, 7]\n",
        "strides = [2,2,2]\n",
        "dropouts = [0.2, 0.2, 0.2]\n",
        "mlp_dims = [512, 256, 128]\n",
        "mlp_drops = [0.2, 0.2, 0.2]\n",
        "d_out = 1\n",
        "\n",
        "\n",
        "reward_model = Predictive_CNN(\n",
        "                    d_vocab,\n",
        "                    d_embedding,\n",
        "                    d_latent,\n",
        "                    filters,\n",
        "                    kernel_sizes,\n",
        "                    strides,\n",
        "                    dropouts,\n",
        "                    mlp_dims,\n",
        "                    mlp_drops,\n",
        "                    d_out\n",
        "                )\n",
        "\n",
        "\n",
        "r_ds = Text_Prediction_Dataset(['M'], [0.], aa_vocab)\n",
        "\n",
        "r_agent = PredictiveAgent(reward_model, BinaryCrossEntropy(), r_ds, opt_kwargs={'lr':1e-3})\n",
        "\n",
        "#r_agent.load_weights('untracked_files/amp_predictor.pt')\n",
        "r_agent.load_state_dict(model_from_url('amp_predictor.pt')) # optional - load exact weights\n",
        "\n",
        "reward_model.eval();\n",
        "\n",
        "freeze(reward_model)\n",
        "\n",
        "class ClippedModelReward():\n",
        "    def __init__(self, agent, minclip, maxclip):\n",
        "        self.agent = agent\n",
        "        self.minclip = minclip\n",
        "        self.maxclip = maxclip\n",
        "\n",
        "    def __call__(self, sequences):\n",
        "        preds = self.agent.predict_data(sequences)\n",
        "        preds = torch.clamp(preds, self.minclip, self.maxclip)\n",
        "        return preds\n",
        "\n",
        "reward_function = Reward(ClippedModelReward(r_agent, -10, 10), weight=1)\n",
        "\n",
        "amp_reward = RewardCallback(reward_function, 'amp')"
      ]
    },
    {
      "cell_type": "markdown",
      "metadata": {
        "id": "6h0aFu9VVAbz"
      },
      "source": [
        "### Optional Reward: Stability Metric\n",
        "\n",
        "There has been a lot of great work recently looking at large scale transformer language models for unsupervised learning of protein structures. One interesting thing that has emerged is a rough relationship between the protein sequence log probability given by a generative model and the stability of the protein sequence.\n",
        "\n",
        "We can use the log probability values from a pretrained protein transformer model as a proxy for stability. Including this as a reward function can help keep the generated peptides realistic.\n",
        "\n",
        "To include this as a reward term, run the code below to install the [ESM](https://github.com/facebookresearch/esm) library to access a pretrained protein transformer model.\n",
        "\n",
        "In the interest of time, we will use the smallest ESM model with 43M parameters, rather than the large scale 630M parameter model. Note that even with the smaller model, this reward term adds significanly to the training runtime"
      ]
    },
    {
      "cell_type": "code",
      "execution_count": 34,
      "metadata": {
        "colab": {
          "base_uri": "https://localhost:8080/"
        },
        "id": "ixN0wYtlVAbz",
        "outputId": "2be1ee83-c373-4e07-8bf7-d317ae206ea6"
      },
      "outputs": [
        {
          "output_type": "stream",
          "name": "stdout",
          "text": [
            "Collecting fair-esm\n",
            "  Downloading fair_esm-2.0.0-py3-none-any.whl.metadata (37 kB)\n",
            "Downloading fair_esm-2.0.0-py3-none-any.whl (93 kB)\n",
            "\u001b[?25l   \u001b[90m━━━━━━━━━━━━━━━━━━━━━━━━━━━━━━━━━━━━━━━━\u001b[0m \u001b[32m0.0/93.1 kB\u001b[0m \u001b[31m?\u001b[0m eta \u001b[36m-:--:--\u001b[0m\r\u001b[2K   \u001b[90m━━━━━━━━━━━━━━━━━━━━━━━━━━━━━━━━━━━━━━━━\u001b[0m \u001b[32m93.1/93.1 kB\u001b[0m \u001b[31m10.3 MB/s\u001b[0m eta \u001b[36m0:00:00\u001b[0m\n",
            "\u001b[?25hInstalling collected packages: fair-esm\n",
            "Successfully installed fair-esm-2.0.0\n"
          ]
        }
      ],
      "source": [
        "# Optional: insall ESM\n",
        "! pip install fair-esm"
      ]
    },
    {
      "cell_type": "code",
      "execution_count": 35,
      "metadata": {
        "id": "k2-8HUTjVAb0"
      },
      "outputs": [],
      "source": [
        "import esm"
      ]
    },
    {
      "cell_type": "code",
      "execution_count": 36,
      "metadata": {
        "colab": {
          "base_uri": "https://localhost:8080/"
        },
        "id": "bo3tB1pHVAb0",
        "outputId": "00c1ee8a-8fcc-4994-dc1f-26ce3783c56b"
      },
      "outputs": [
        {
          "output_type": "stream",
          "name": "stderr",
          "text": [
            "Downloading: \"https://dl.fbaipublicfiles.com/fair-esm/models/esm1_t6_43M_UR50S.pt\" to /root/.cache/torch/hub/checkpoints/esm1_t6_43M_UR50S.pt\n",
            "Downloading: \"https://dl.fbaipublicfiles.com/fair-esm/regression/esm1_t6_43M_UR50S-contact-regression.pt\" to /root/.cache/torch/hub/checkpoints/esm1_t6_43M_UR50S-contact-regression.pt\n"
          ]
        }
      ],
      "source": [
        "protein_model, alphabet = esm.pretrained.esm1_t6_43M_UR50S()\n",
        "batch_converter = alphabet.get_batch_converter()"
      ]
    },
    {
      "cell_type": "code",
      "execution_count": 37,
      "metadata": {
        "id": "na4-k5YvVAb0"
      },
      "outputs": [],
      "source": [
        "class PeptideStability():\n",
        "    def __init__(self, model, alphabet, batch_converter):\n",
        "        self.model = model\n",
        "        to_device(self.model)\n",
        "        self.alphabet = alphabet\n",
        "        self.batch_converter = batch_converter\n",
        "\n",
        "    def __call__(self, samples):\n",
        "\n",
        "        data = [\n",
        "            (f'protein{i}', samples[i]) for i in range(len(samples))\n",
        "        ]\n",
        "\n",
        "        batch_labels, batch_strs, batch_tokens = self.batch_converter(data)\n",
        "\n",
        "        with torch.no_grad():\n",
        "            results = self.model(to_device(batch_tokens))\n",
        "\n",
        "        lps = F.log_softmax(results['logits'], -1)\n",
        "\n",
        "        mean_lps = lps.gather(2, to_device(batch_tokens).unsqueeze(-1)).squeeze(-1).mean(-1)\n",
        "\n",
        "        return mean_lps"
      ]
    },
    {
      "cell_type": "code",
      "execution_count": 38,
      "metadata": {
        "id": "Dqk9CvsYVAb0"
      },
      "outputs": [],
      "source": [
        "ps = PeptideStability(protein_model, alphabet, batch_converter)"
      ]
    },
    {
      "cell_type": "code",
      "execution_count": 39,
      "metadata": {
        "id": "Y9o5NuFsVAb1"
      },
      "outputs": [],
      "source": [
        "stability_reward = Reward(ps, weight=0.1, bs=300)\n",
        "stability_cb = RewardCallback(stability_reward, name='stability')"
      ]
    },
    {
      "cell_type": "code",
      "execution_count": 40,
      "metadata": {
        "colab": {
          "base_uri": "https://localhost:8080/"
        },
        "id": "ixp6S3_YVAb1",
        "outputId": "224f7487-f31c-4502-b085-885c5b28d1fe"
      },
      "outputs": [
        {
          "output_type": "execute_result",
          "data": {
            "text/plain": [
              "tensor([-2.6915, -3.0885, -3.0648, -1.6828, -0.1794, -3.9859, -3.7000, -3.5714,\n",
              "        -2.2517, -3.6625], device='cuda:0')"
            ]
          },
          "metadata": {},
          "execution_count": 40
        }
      ],
      "source": [
        "stability_reward(df.sequence.values[:10])"
      ]
    },
    {
      "cell_type": "markdown",
      "metadata": {
        "id": "Dp3kGZzUVAb2"
      },
      "source": [
        "### Samplers\n",
        "\n",
        "We create the following samplers:\n",
        "- `sampler1 ModelSampler`: this samples from the main model. This sample will add 1000 compounds to the buffer each buffer build, and sample 40% of each batch on the fly from the main model.\n",
        "- `sampler2 ModelSampler`: this samples from the baseline model and is not sampled live on each batch\n",
        "- `sampler3 LogSampler`: this samples high scoring samples from the lig\n",
        "- `sampler4 TokenSwapSampler`: this uses token swap comibichem to generate new samples from high scoring samples\n",
        "- `sampler5 DatasetSampler`: this sprinkles in a small amount of known actives into each buffer build. Note that we subset by peptide length to align with the generated length (75 amino acids)"
      ]
    },
    {
      "cell_type": "code",
      "execution_count": 41,
      "metadata": {
        "id": "DaX97_kEVAb2"
      },
      "outputs": [],
      "source": [
        "gen_bs = 1500\n",
        "\n",
        "sampler1 = ModelSampler(agent.vocab, agent.model, 'live', 1000, 0., gen_bs)\n",
        "sampler2 = ModelSampler(agent.vocab, agent.base_model, 'base', 1000, 0., gen_bs)\n",
        "sampler3 = LogSampler('samples', 'rewards', 10, 98, 200)\n",
        "sampler4 = TokenSwapSampler('samples', 'rewards', 10, 98, 200, aa_vocab, 0.2)\n",
        "sampler5 = DatasetSampler(df[(df.label==1) & (df.sequence.map(lambda x: len(x)<=75))].sequence.values,\n",
        "                          'data', buffer_size=4)\n",
        "\n",
        "samplers = [sampler1, sampler2, sampler3, sampler4, sampler5]"
      ]
    },
    {
      "cell_type": "markdown",
      "metadata": {
        "id": "s1v7VfMOVAb2"
      },
      "source": [
        "### Callbacks\n",
        "\n",
        "Additional callbacks\n",
        "- `SupervisedCB`: runs supervised training on the top 3% of samples every 400 batches\n",
        "- `MaxCallback`: prints the max reward for each batch\n",
        "- `PercentileCallback`: prints the 90th percentile score each batch"
      ]
    },
    {
      "cell_type": "code",
      "execution_count": 42,
      "metadata": {
        "id": "0BSClEywVAb3"
      },
      "outputs": [],
      "source": [
        "supervised_cb = SupervisedCB(agent, 20, 0.5, 98, 1e-4, 64)\n",
        "live_max = MaxCallback('rewards', 'live')\n",
        "live_p90 = PercentileCallback('rewards', 'live', 90)\n",
        "\n",
        "cbs = [supervised_cb, live_p90, live_max]"
      ]
    },
    {
      "cell_type": "markdown",
      "metadata": {
        "id": "5csD9sUXVAb3"
      },
      "source": [
        "## Environment and Train\n",
        "\n",
        "Now we can put together our Environment and run the training process"
      ]
    },
    {
      "cell_type": "code",
      "execution_count": 43,
      "metadata": {
        "id": "5zlM2II-VAb3"
      },
      "outputs": [],
      "source": [
        "env = Environment(agent, template_cb, samplers=samplers, rewards=[amp_reward, stability_cb], losses=[loss],\n",
        "                 cbs=cbs)"
      ]
    },
    {
      "cell_type": "code",
      "execution_count": 44,
      "metadata": {
        "id": "sXYjMDe1VAb4"
      },
      "outputs": [],
      "source": [
        "set_global_pool(min(12, os.cpu_count()))"
      ]
    },
    {
      "cell_type": "code",
      "execution_count": 55,
      "metadata": {
        "colab": {
          "base_uri": "https://localhost:8080/",
          "height": 416
        },
        "id": "T1IiuqJKVAb4",
        "outputId": "f5303bf6-71e7-40b4-bb69-45a806948c1a"
      },
      "outputs": [
        {
          "output_type": "error",
          "ename": "ModuleNotFoundError",
          "evalue": "No module named 'ray'",
          "traceback": [
            "\u001b[0;31m---------------------------------------------------------------------------\u001b[0m",
            "\u001b[0;31mModuleNotFoundError\u001b[0m                       Traceback (most recent call last)",
            "\u001b[0;32m<ipython-input-55-4e57eee32e0c>\u001b[0m in \u001b[0;36m<cell line: 0>\u001b[0;34m()\u001b[0m\n\u001b[0;32m----> 1\u001b[0;31m \u001b[0;32mfrom\u001b[0m \u001b[0mray\u001b[0m\u001b[0;34m.\u001b[0m\u001b[0mrllib\u001b[0m\u001b[0;34m.\u001b[0m\u001b[0malgorithms\u001b[0m\u001b[0;34m.\u001b[0m\u001b[0mppo\u001b[0m \u001b[0;32mimport\u001b[0m \u001b[0mPPOConfig\u001b[0m\u001b[0;34m\u001b[0m\u001b[0;34m\u001b[0m\u001b[0m\n\u001b[0m\u001b[1;32m      2\u001b[0m \u001b[0;34m\u001b[0m\u001b[0m\n\u001b[1;32m      3\u001b[0m \u001b[0;31m# Configurar o PPO com o ambiente da MRL\u001b[0m\u001b[0;34m\u001b[0m\u001b[0;34m\u001b[0m\u001b[0m\n\u001b[1;32m      4\u001b[0m \u001b[0mconfig\u001b[0m \u001b[0;34m=\u001b[0m \u001b[0mPPOConfig\u001b[0m\u001b[0;34m(\u001b[0m\u001b[0;34m)\u001b[0m\u001b[0;34m.\u001b[0m\u001b[0menvironment\u001b[0m\u001b[0;34m(\u001b[0m\u001b[0menv\u001b[0m\u001b[0;34m=\u001b[0m\u001b[0menv\u001b[0m\u001b[0;34m)\u001b[0m\u001b[0;34m.\u001b[0m\u001b[0mframework\u001b[0m\u001b[0;34m(\u001b[0m\u001b[0;34m\"torch\"\u001b[0m\u001b[0;34m)\u001b[0m\u001b[0;34m\u001b[0m\u001b[0;34m\u001b[0m\u001b[0m\n\u001b[1;32m      5\u001b[0m \u001b[0;34m\u001b[0m\u001b[0m\n",
            "\u001b[0;31mModuleNotFoundError\u001b[0m: No module named 'ray'",
            "",
            "\u001b[0;31m---------------------------------------------------------------------------\u001b[0;32m\nNOTE: If your import is failing due to a missing package, you can\nmanually install dependencies using either !pip or !apt.\n\nTo view examples of installing some common dependencies, click the\n\"Open Examples\" button below.\n\u001b[0;31m---------------------------------------------------------------------------\u001b[0m\n"
          ],
          "errorDetails": {
            "actions": [
              {
                "action": "open_url",
                "actionText": "Open Examples",
                "url": "/notebooks/snippets/importing_libraries.ipynb"
              }
            ]
          }
        }
      ],
      "source": [
        "!pip install \"ray[rllib]\" --quiet\n",
        "\n",
        "from ray.rllib.algorithms.ppo import PPOConfig\n",
        "\n",
        "# Configurar o PPO com o ambiente da MRL\n",
        "config = PPOConfig().environment(env=env).framework(\"torch\")\n",
        "\n",
        "# Criar o agente\n",
        "algo = config.build()\n",
        "\n",
        "# Treinar por 75 iterações\n",
        "for i in range(75):\n",
        "    result = algo.train()\n",
        "    print(f\"Iteração {i} | Recompensa média: {result['episode_reward_mean']}\")\n"
      ]
    },
    {
      "cell_type": "code",
      "execution_count": null,
      "metadata": {
        "id": "4Uqz7oeOVAb4"
      },
      "outputs": [],
      "source": [
        "env.log.plot_metrics()"
      ]
    },
    {
      "cell_type": "markdown",
      "metadata": {
        "id": "PA1s-rYBVAb5"
      },
      "source": [
        "## Evaluation\n",
        "\n",
        "Looking at high scoring sequences, we see many sequences contain with a high concentration of `K` residues. These features likely come from a small number of dataset samples with high `K` contents. For example, `AATKPKKAGAEAAPKKPAKKQTKKKPAKKAGGKKKPKRAGAKKAKK` is a AMP sequence in the dataset.\n",
        "\n",
        "If these traits are undesirable, they can be controlled by updating the `Template` to limit other residues the same way we limited `A` residues."
      ]
    },
    {
      "cell_type": "code",
      "execution_count": null,
      "metadata": {
        "id": "NrBzdTftVAb5"
      },
      "outputs": [],
      "source": [
        "env.log.df[env.log.df.rewards>9.8]"
      ]
    },
    {
      "cell_type": "code",
      "execution_count": null,
      "metadata": {
        "id": "L1JfCGDGVAb5"
      },
      "outputs": [],
      "source": [
        "aas = ['G', 'V', 'I', 'K']\n",
        "\n",
        "fig, axes = plt.subplots(2,2, figsize=(12,8))\n",
        "\n",
        "for i, ax in enumerate(axes.flat):\n",
        "    if i<len(aas):\n",
        "        env.log.df[env.log.df.rewards>9.].samples.map(\n",
        "            lambda x: x.count(aas[i])/len(x)).hist(density=True, alpha=0.5, label=f'Generated {aas[i]} Counts',\n",
        "                                                  ax=ax)\n",
        "        df[df.label==1].sequence.map(\n",
        "            lambda x: x.count(aas[i])/len(x)).hist(density=True, alpha=0.5, label=f'Dataset {aas[i]} Counts',\n",
        "                                                  ax=ax)\n",
        "        ax.legend()\n",
        "    else:\n",
        "        ax.axis('off')"
      ]
    },
    {
      "cell_type": "code",
      "execution_count": null,
      "metadata": {
        "id": "tsQ3_jWeVAb6"
      },
      "outputs": [],
      "source": []
    }
  ],
  "metadata": {
    "kernelspec": {
      "display_name": "Python 3",
      "name": "python3"
    },
    "colab": {
      "provenance": [],
      "gpuType": "T4",
      "include_colab_link": true
    },
    "accelerator": "GPU"
  },
  "nbformat": 4,
  "nbformat_minor": 0
}