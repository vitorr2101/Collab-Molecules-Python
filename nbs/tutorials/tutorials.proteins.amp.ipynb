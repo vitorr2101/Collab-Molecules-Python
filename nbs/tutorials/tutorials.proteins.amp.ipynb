{
  "cells": [
    {
      "cell_type": "markdown",
      "metadata": {
        "id": "view-in-github",
        "colab_type": "text"
      },
      "source": [
        "<a href=\"https://colab.research.google.com/github/vitorr2101/Collab-Molecules-Python/blob/main/nbs/tutorials/tutorials.proteins.amp.ipynb\" target=\"_parent\"><img src=\"https://colab.research.google.com/assets/colab-badge.svg\" alt=\"Open In Colab\"/></a>"
      ]
    },
    {
      "cell_type": "code",
      "execution_count": 9,
      "metadata": {
        "id": "21atpnsKbhM7"
      },
      "outputs": [],
      "source": [
        "# hide\n",
        "# all_tutorial\n",
        "! [ -e /content ] && pip install -Uqq mrl-pypi  # upgrade mrl on colab"
      ]
    },
    {
      "cell_type": "markdown",
      "metadata": {
        "id": "PGsdGuelbhM_"
      },
      "source": [
        "# Antimicrobial Peptide Design\n",
        "\n",
        ">Using MRL to design antimicrobial peptides"
      ]
    },
    {
      "cell_type": "markdown",
      "metadata": {
        "id": "_l6WKsqybhNB"
      },
      "source": [
        "## Antimicrobial Peptide Design\n",
        "\n",
        "This tutorial runs an end to end workflow for designing antimicrobial peptides using MRL.\n",
        "\n",
        "Antimicrobial peptides are a family of peptides that kill bacteria. These peptides are of interest for antibiotics and anticancer therapeutics"
      ]
    },
    {
      "cell_type": "markdown",
      "metadata": {
        "id": "vI2_Q5HZbhNB"
      },
      "source": [
        "## Performance Notes\n",
        "\n",
        "The workflow in this notebook is more CPU-constrained than GPU-constrained due to the need to evaluate samples on CPU. If you have a multi-core machine, it is recommended that you uncomment and run the `set_global_pool` cells in the notebook. This will trigger the use of multiprocessing, which will result in 2-4x speedups.\n",
        "\n",
        "This notebook may run slow on Collab due to CPU limitations.\n",
        "\n",
        "If running on Collab, remember to change the runtime to GPU"
      ]
    },
    {
      "cell_type": "code",
      "execution_count": 10,
      "metadata": {
        "id": "ndGqe4O-bhNC"
      },
      "outputs": [],
      "source": [
        "import sys\n",
        "sys.path.append('..')\n",
        "\n",
        "from mrl.imports import *\n",
        "from mrl.core import *\n",
        "from mrl.chem import *\n",
        "from mrl.templates.all import *\n",
        "\n",
        "from mrl.torch_imports import *\n",
        "from mrl.torch_core import *\n",
        "from mrl.layers import *\n",
        "from mrl.dataloaders import *\n",
        "from mrl.g_models.all import *\n",
        "from mrl.vocab import *\n",
        "from mrl.policy_gradient import *\n",
        "from mrl.train.all import *\n",
        "from mrl.model_zoo import *\n",
        "from sklearn.metrics import roc_curve, auc\n",
        "from sklearn.metrics import roc_auc_score"
      ]
    },
    {
      "cell_type": "code",
      "execution_count": 11,
      "metadata": {
        "id": "dv8-sbxQbhNH"
      },
      "outputs": [],
      "source": [
        "os.makedirs('untracked_files', exist_ok=True)"
      ]
    },
    {
      "cell_type": "markdown",
      "metadata": {
        "id": "9odXcCkqbhNI"
      },
      "source": [
        "## Data\n",
        "\n",
        "The dataset comes from the [AMPlify](https://github.com/bcgsc/AMPlify) repo. It contains ~8300 short peptides classified as antimicrobial or not antimicrobial"
      ]
    },
    {
      "cell_type": "code",
      "execution_count": 12,
      "metadata": {
        "id": "TZoCm9pNbhNI"
      },
      "outputs": [],
      "source": [
        "# if in the repo\n",
        "#df = pd.read_csv('../files/anti_microbial_peptides.csv')\n",
        "\n",
        "# if in Collab\n",
        "download_files()\n",
        "df = pd.read_csv('files/anti_microbial_peptides.csv')"
      ]
    },
    {
      "cell_type": "code",
      "execution_count": 13,
      "metadata": {
        "id": "MRteamQKbhNI",
        "outputId": "c0cde9fe-767f-41bf-da9a-2575087a45d6",
        "colab": {
          "base_uri": "https://localhost:8080/",
          "height": 206
        }
      },
      "outputs": [
        {
          "output_type": "execute_result",
          "data": {
            "text/plain": [
              "         name                                           sequence dataset  \\\n",
              "0  >trAMP0001                  GLLDTFKNLALNAAKSAGVSVLNSLSCKLSKTC   train   \n",
              "1  >trAMP0002                                  AKKPVAKKAAGGVKKPK   train   \n",
              "2  >trAMP0003                                GIIDIAKKLVGGIRNVLGI   train   \n",
              "3  >trAMP0004  MAGFLKVVQLLAKYGSKAVQWAWANKGKILDWLNAGQAIDWVVSKI...   train   \n",
              "4  >trAMP0005  YGPGDGHGGGHGGGHGGGHGNGQGGGHGHGPGGGFGGGHGGGHGGG...   train   \n",
              "\n",
              "   label  \n",
              "0      1  \n",
              "1      1  \n",
              "2      1  \n",
              "3      1  \n",
              "4      1  "
            ],
            "text/html": [
              "\n",
              "  <div id=\"df-2dd1d5d4-9e2c-4abc-8012-5e833c5762eb\" class=\"colab-df-container\">\n",
              "    <div>\n",
              "<style scoped>\n",
              "    .dataframe tbody tr th:only-of-type {\n",
              "        vertical-align: middle;\n",
              "    }\n",
              "\n",
              "    .dataframe tbody tr th {\n",
              "        vertical-align: top;\n",
              "    }\n",
              "\n",
              "    .dataframe thead th {\n",
              "        text-align: right;\n",
              "    }\n",
              "</style>\n",
              "<table border=\"1\" class=\"dataframe\">\n",
              "  <thead>\n",
              "    <tr style=\"text-align: right;\">\n",
              "      <th></th>\n",
              "      <th>name</th>\n",
              "      <th>sequence</th>\n",
              "      <th>dataset</th>\n",
              "      <th>label</th>\n",
              "    </tr>\n",
              "  </thead>\n",
              "  <tbody>\n",
              "    <tr>\n",
              "      <th>0</th>\n",
              "      <td>&gt;trAMP0001</td>\n",
              "      <td>GLLDTFKNLALNAAKSAGVSVLNSLSCKLSKTC</td>\n",
              "      <td>train</td>\n",
              "      <td>1</td>\n",
              "    </tr>\n",
              "    <tr>\n",
              "      <th>1</th>\n",
              "      <td>&gt;trAMP0002</td>\n",
              "      <td>AKKPVAKKAAGGVKKPK</td>\n",
              "      <td>train</td>\n",
              "      <td>1</td>\n",
              "    </tr>\n",
              "    <tr>\n",
              "      <th>2</th>\n",
              "      <td>&gt;trAMP0003</td>\n",
              "      <td>GIIDIAKKLVGGIRNVLGI</td>\n",
              "      <td>train</td>\n",
              "      <td>1</td>\n",
              "    </tr>\n",
              "    <tr>\n",
              "      <th>3</th>\n",
              "      <td>&gt;trAMP0004</td>\n",
              "      <td>MAGFLKVVQLLAKYGSKAVQWAWANKGKILDWLNAGQAIDWVVSKI...</td>\n",
              "      <td>train</td>\n",
              "      <td>1</td>\n",
              "    </tr>\n",
              "    <tr>\n",
              "      <th>4</th>\n",
              "      <td>&gt;trAMP0005</td>\n",
              "      <td>YGPGDGHGGGHGGGHGGGHGNGQGGGHGHGPGGGFGGGHGGGHGGG...</td>\n",
              "      <td>train</td>\n",
              "      <td>1</td>\n",
              "    </tr>\n",
              "  </tbody>\n",
              "</table>\n",
              "</div>\n",
              "    <div class=\"colab-df-buttons\">\n",
              "\n",
              "  <div class=\"colab-df-container\">\n",
              "    <button class=\"colab-df-convert\" onclick=\"convertToInteractive('df-2dd1d5d4-9e2c-4abc-8012-5e833c5762eb')\"\n",
              "            title=\"Convert this dataframe to an interactive table.\"\n",
              "            style=\"display:none;\">\n",
              "\n",
              "  <svg xmlns=\"http://www.w3.org/2000/svg\" height=\"24px\" viewBox=\"0 -960 960 960\">\n",
              "    <path d=\"M120-120v-720h720v720H120Zm60-500h600v-160H180v160Zm220 220h160v-160H400v160Zm0 220h160v-160H400v160ZM180-400h160v-160H180v160Zm440 0h160v-160H620v160ZM180-180h160v-160H180v160Zm440 0h160v-160H620v160Z\"/>\n",
              "  </svg>\n",
              "    </button>\n",
              "\n",
              "  <style>\n",
              "    .colab-df-container {\n",
              "      display:flex;\n",
              "      gap: 12px;\n",
              "    }\n",
              "\n",
              "    .colab-df-convert {\n",
              "      background-color: #E8F0FE;\n",
              "      border: none;\n",
              "      border-radius: 50%;\n",
              "      cursor: pointer;\n",
              "      display: none;\n",
              "      fill: #1967D2;\n",
              "      height: 32px;\n",
              "      padding: 0 0 0 0;\n",
              "      width: 32px;\n",
              "    }\n",
              "\n",
              "    .colab-df-convert:hover {\n",
              "      background-color: #E2EBFA;\n",
              "      box-shadow: 0px 1px 2px rgba(60, 64, 67, 0.3), 0px 1px 3px 1px rgba(60, 64, 67, 0.15);\n",
              "      fill: #174EA6;\n",
              "    }\n",
              "\n",
              "    .colab-df-buttons div {\n",
              "      margin-bottom: 4px;\n",
              "    }\n",
              "\n",
              "    [theme=dark] .colab-df-convert {\n",
              "      background-color: #3B4455;\n",
              "      fill: #D2E3FC;\n",
              "    }\n",
              "\n",
              "    [theme=dark] .colab-df-convert:hover {\n",
              "      background-color: #434B5C;\n",
              "      box-shadow: 0px 1px 3px 1px rgba(0, 0, 0, 0.15);\n",
              "      filter: drop-shadow(0px 1px 2px rgba(0, 0, 0, 0.3));\n",
              "      fill: #FFFFFF;\n",
              "    }\n",
              "  </style>\n",
              "\n",
              "    <script>\n",
              "      const buttonEl =\n",
              "        document.querySelector('#df-2dd1d5d4-9e2c-4abc-8012-5e833c5762eb button.colab-df-convert');\n",
              "      buttonEl.style.display =\n",
              "        google.colab.kernel.accessAllowed ? 'block' : 'none';\n",
              "\n",
              "      async function convertToInteractive(key) {\n",
              "        const element = document.querySelector('#df-2dd1d5d4-9e2c-4abc-8012-5e833c5762eb');\n",
              "        const dataTable =\n",
              "          await google.colab.kernel.invokeFunction('convertToInteractive',\n",
              "                                                    [key], {});\n",
              "        if (!dataTable) return;\n",
              "\n",
              "        const docLinkHtml = 'Like what you see? Visit the ' +\n",
              "          '<a target=\"_blank\" href=https://colab.research.google.com/notebooks/data_table.ipynb>data table notebook</a>'\n",
              "          + ' to learn more about interactive tables.';\n",
              "        element.innerHTML = '';\n",
              "        dataTable['output_type'] = 'display_data';\n",
              "        await google.colab.output.renderOutput(dataTable, element);\n",
              "        const docLink = document.createElement('div');\n",
              "        docLink.innerHTML = docLinkHtml;\n",
              "        element.appendChild(docLink);\n",
              "      }\n",
              "    </script>\n",
              "  </div>\n",
              "\n",
              "\n",
              "<div id=\"df-8f4e4bfa-d716-496d-a4da-e4053eb7500a\">\n",
              "  <button class=\"colab-df-quickchart\" onclick=\"quickchart('df-8f4e4bfa-d716-496d-a4da-e4053eb7500a')\"\n",
              "            title=\"Suggest charts\"\n",
              "            style=\"display:none;\">\n",
              "\n",
              "<svg xmlns=\"http://www.w3.org/2000/svg\" height=\"24px\"viewBox=\"0 0 24 24\"\n",
              "     width=\"24px\">\n",
              "    <g>\n",
              "        <path d=\"M19 3H5c-1.1 0-2 .9-2 2v14c0 1.1.9 2 2 2h14c1.1 0 2-.9 2-2V5c0-1.1-.9-2-2-2zM9 17H7v-7h2v7zm4 0h-2V7h2v10zm4 0h-2v-4h2v4z\"/>\n",
              "    </g>\n",
              "</svg>\n",
              "  </button>\n",
              "\n",
              "<style>\n",
              "  .colab-df-quickchart {\n",
              "      --bg-color: #E8F0FE;\n",
              "      --fill-color: #1967D2;\n",
              "      --hover-bg-color: #E2EBFA;\n",
              "      --hover-fill-color: #174EA6;\n",
              "      --disabled-fill-color: #AAA;\n",
              "      --disabled-bg-color: #DDD;\n",
              "  }\n",
              "\n",
              "  [theme=dark] .colab-df-quickchart {\n",
              "      --bg-color: #3B4455;\n",
              "      --fill-color: #D2E3FC;\n",
              "      --hover-bg-color: #434B5C;\n",
              "      --hover-fill-color: #FFFFFF;\n",
              "      --disabled-bg-color: #3B4455;\n",
              "      --disabled-fill-color: #666;\n",
              "  }\n",
              "\n",
              "  .colab-df-quickchart {\n",
              "    background-color: var(--bg-color);\n",
              "    border: none;\n",
              "    border-radius: 50%;\n",
              "    cursor: pointer;\n",
              "    display: none;\n",
              "    fill: var(--fill-color);\n",
              "    height: 32px;\n",
              "    padding: 0;\n",
              "    width: 32px;\n",
              "  }\n",
              "\n",
              "  .colab-df-quickchart:hover {\n",
              "    background-color: var(--hover-bg-color);\n",
              "    box-shadow: 0 1px 2px rgba(60, 64, 67, 0.3), 0 1px 3px 1px rgba(60, 64, 67, 0.15);\n",
              "    fill: var(--button-hover-fill-color);\n",
              "  }\n",
              "\n",
              "  .colab-df-quickchart-complete:disabled,\n",
              "  .colab-df-quickchart-complete:disabled:hover {\n",
              "    background-color: var(--disabled-bg-color);\n",
              "    fill: var(--disabled-fill-color);\n",
              "    box-shadow: none;\n",
              "  }\n",
              "\n",
              "  .colab-df-spinner {\n",
              "    border: 2px solid var(--fill-color);\n",
              "    border-color: transparent;\n",
              "    border-bottom-color: var(--fill-color);\n",
              "    animation:\n",
              "      spin 1s steps(1) infinite;\n",
              "  }\n",
              "\n",
              "  @keyframes spin {\n",
              "    0% {\n",
              "      border-color: transparent;\n",
              "      border-bottom-color: var(--fill-color);\n",
              "      border-left-color: var(--fill-color);\n",
              "    }\n",
              "    20% {\n",
              "      border-color: transparent;\n",
              "      border-left-color: var(--fill-color);\n",
              "      border-top-color: var(--fill-color);\n",
              "    }\n",
              "    30% {\n",
              "      border-color: transparent;\n",
              "      border-left-color: var(--fill-color);\n",
              "      border-top-color: var(--fill-color);\n",
              "      border-right-color: var(--fill-color);\n",
              "    }\n",
              "    40% {\n",
              "      border-color: transparent;\n",
              "      border-right-color: var(--fill-color);\n",
              "      border-top-color: var(--fill-color);\n",
              "    }\n",
              "    60% {\n",
              "      border-color: transparent;\n",
              "      border-right-color: var(--fill-color);\n",
              "    }\n",
              "    80% {\n",
              "      border-color: transparent;\n",
              "      border-right-color: var(--fill-color);\n",
              "      border-bottom-color: var(--fill-color);\n",
              "    }\n",
              "    90% {\n",
              "      border-color: transparent;\n",
              "      border-bottom-color: var(--fill-color);\n",
              "    }\n",
              "  }\n",
              "</style>\n",
              "\n",
              "  <script>\n",
              "    async function quickchart(key) {\n",
              "      const quickchartButtonEl =\n",
              "        document.querySelector('#' + key + ' button');\n",
              "      quickchartButtonEl.disabled = true;  // To prevent multiple clicks.\n",
              "      quickchartButtonEl.classList.add('colab-df-spinner');\n",
              "      try {\n",
              "        const charts = await google.colab.kernel.invokeFunction(\n",
              "            'suggestCharts', [key], {});\n",
              "      } catch (error) {\n",
              "        console.error('Error during call to suggestCharts:', error);\n",
              "      }\n",
              "      quickchartButtonEl.classList.remove('colab-df-spinner');\n",
              "      quickchartButtonEl.classList.add('colab-df-quickchart-complete');\n",
              "    }\n",
              "    (() => {\n",
              "      let quickchartButtonEl =\n",
              "        document.querySelector('#df-8f4e4bfa-d716-496d-a4da-e4053eb7500a button');\n",
              "      quickchartButtonEl.style.display =\n",
              "        google.colab.kernel.accessAllowed ? 'block' : 'none';\n",
              "    })();\n",
              "  </script>\n",
              "</div>\n",
              "\n",
              "    </div>\n",
              "  </div>\n"
            ],
            "application/vnd.google.colaboratory.intrinsic+json": {
              "type": "dataframe",
              "variable_name": "df",
              "summary": "{\n  \"name\": \"df\",\n  \"rows\": 8346,\n  \"fields\": [\n    {\n      \"column\": \"name\",\n      \"properties\": {\n        \"dtype\": \"string\",\n        \"num_unique_values\": 8346,\n        \"samples\": [\n          \">trAMP2681\",\n          \">trAMP2511\",\n          \">trNEGATIVE2731\"\n        ],\n        \"semantic_type\": \"\",\n        \"description\": \"\"\n      }\n    },\n    {\n      \"column\": \"sequence\",\n      \"properties\": {\n        \"dtype\": \"string\",\n        \"num_unique_values\": 8346,\n        \"samples\": [\n          \"VWPLGLVICKALKIC\",\n          \"SSSLLNTAWRKFG\",\n          \"MFAGLPSLSHEQQQKAVERI\"\n        ],\n        \"semantic_type\": \"\",\n        \"description\": \"\"\n      }\n    },\n    {\n      \"column\": \"dataset\",\n      \"properties\": {\n        \"dtype\": \"category\",\n        \"num_unique_values\": 2,\n        \"samples\": [\n          \"valid\",\n          \"train\"\n        ],\n        \"semantic_type\": \"\",\n        \"description\": \"\"\n      }\n    },\n    {\n      \"column\": \"label\",\n      \"properties\": {\n        \"dtype\": \"number\",\n        \"std\": 0,\n        \"min\": 0,\n        \"max\": 1,\n        \"num_unique_values\": 2,\n        \"samples\": [\n          0,\n          1\n        ],\n        \"semantic_type\": \"\",\n        \"description\": \"\"\n      }\n    }\n  ]\n}"
            }
          },
          "metadata": {},
          "execution_count": 13
        }
      ],
      "source": [
        "df.head()"
      ]
    },
    {
      "cell_type": "markdown",
      "metadata": {
        "id": "La--PbXebhNJ"
      },
      "source": [
        "Most peptides are short, less than 50 amino acids"
      ]
    },
    {
      "cell_type": "code",
      "execution_count": 14,
      "metadata": {
        "id": "r3iN7wZbbhNJ",
        "outputId": "b2885ae3-605f-446c-c9b7-e6b175995270",
        "colab": {
          "base_uri": "https://localhost:8080/",
          "height": 449
        }
      },
      "outputs": [
        {
          "output_type": "execute_result",
          "data": {
            "text/plain": [
              "<Axes: >"
            ]
          },
          "metadata": {},
          "execution_count": 14
        },
        {
          "output_type": "display_data",
          "data": {
            "text/plain": [
              "<Figure size 640x480 with 1 Axes>"
            ],
            "image/png": "[encoded data removed]"
          },
          "metadata": {}
        }
      ],
      "source": [
        "df.sequence.map(lambda x: len(x)).hist()"
      ]
    },
    {
      "cell_type": "markdown",
      "metadata": {
        "id": "Sg985hP8bhNK"
      },
      "source": [
        "## Score Function\n",
        "\n",
        "Now we want to develop a score function for predicting antimicrobial activity. We will use a CNN encoder with a MLP head to predict a binary classification value for antimicrobial activity.\n",
        "\n",
        "Our input data will be token integers for amino acids. Note that fingerprint representations are a poor fit for peptide work because peptides contain many repeating substructures.\n",
        "\n",
        "We will train on 95% of the data and validate on the 5% held out."
      ]
    },
    {
      "cell_type": "code",
      "execution_count": 15,
      "metadata": {
        "id": "jhao047_bhNK"
      },
      "outputs": [],
      "source": [
        "train_df = df[df.dataset=='train']\n",
        "valid_df = df[df.dataset=='valid']"
      ]
    },
    {
      "cell_type": "code",
      "execution_count": 16,
      "metadata": {
        "id": "mNdGl23ubhNK"
      },
      "outputs": [],
      "source": [
        "aa_vocab = CharacterVocab(AMINO_ACID_VOCAB)\n",
        "\n",
        "amp_ds = Text_Prediction_Dataset(train_df.sequence.values, train_df.label.values, aa_vocab)\n",
        "test_ds = Text_Prediction_Dataset(valid_df.sequence.values, valid_df.label.values, aa_vocab)"
      ]
    },
    {
      "cell_type": "markdown",
      "metadata": {
        "id": "SQUa_nXfbhNL"
      },
      "source": [
        "This is the model we will use:"
      ]
    },
    {
      "cell_type": "code",
      "execution_count": 17,
      "metadata": {
        "id": "4sWiyAhNbhNL"
      },
      "outputs": [],
      "source": [
        "class Predictive_CNN(nn.Module):\n",
        "    def __init__(self,\n",
        "                 d_vocab,\n",
        "                 d_embedding,\n",
        "                 d_latent,\n",
        "                 filters,\n",
        "                 kernel_sizes,\n",
        "                 strides,\n",
        "                 dropouts,\n",
        "                 mlp_dims,\n",
        "                 mlp_drops,\n",
        "                 d_out\n",
        "                ):\n",
        "        super().__init__()\n",
        "\n",
        "        self.conv_encoder = Conv_Encoder(\n",
        "                                        d_vocab,\n",
        "                                        d_embedding,\n",
        "                                        d_latent,\n",
        "                                        filters,\n",
        "                                        kernel_sizes,\n",
        "                                        strides,\n",
        "                                        dropouts,\n",
        "                                    )\n",
        "\n",
        "        self.mlp_head = MLP(\n",
        "                            d_latent,\n",
        "                            mlp_dims,\n",
        "                            d_out,\n",
        "                            mlp_drops\n",
        "                            )\n",
        "\n",
        "    def forward(self, x):\n",
        "        encoded = self.conv_encoder(x)\n",
        "        out = self.mlp_head(encoded)\n",
        "        return out"
      ]
    },
    {
      "cell_type": "code",
      "execution_count": 18,
      "metadata": {
        "id": "pKa7k1KbbhNM"
      },
      "outputs": [],
      "source": [
        "d_vocab = len(aa_vocab.itos)\n",
        "d_embedding = 256\n",
        "d_latent = 512\n",
        "filters = [256, 512, 1024]\n",
        "kernel_sizes = [7, 7, 7]\n",
        "strides = [2,2,2]\n",
        "dropouts = [0.2, 0.2, 0.2]\n",
        "mlp_dims = [512, 256, 128]\n",
        "mlp_drops = [0.2, 0.2, 0.2]\n",
        "d_out = 1\n",
        "\n",
        "\n",
        "amp_model = Predictive_CNN(\n",
        "                    d_vocab,\n",
        "                    d_embedding,\n",
        "                    d_latent,\n",
        "                    filters,\n",
        "                    kernel_sizes,\n",
        "                    strides,\n",
        "                    dropouts,\n",
        "                    mlp_dims,\n",
        "                    mlp_drops,\n",
        "                    d_out\n",
        "                )"
      ]
    },
    {
      "cell_type": "code",
      "execution_count": 19,
      "metadata": {
        "id": "dcKPMQe9bhNM"
      },
      "outputs": [],
      "source": [
        "r_agent = PredictiveAgent(amp_model, BinaryCrossEntropy(), amp_ds, opt_kwargs={'lr':1e-3})"
      ]
    },
    {
      "cell_type": "code",
      "execution_count": 19,
      "metadata": {
        "id": "p7bO180RbhNO"
      },
      "outputs": [],
      "source": []
    },
    {
      "cell_type": "code",
      "execution_count": 20,
      "metadata": {
        "id": "h9FYzA9HbhNO",
        "outputId": "1784017c-6978-441e-a933-14873f6b6e98",
        "colab": {
          "base_uri": "https://localhost:8080/",
          "height": 425
        }
      },
      "outputs": [
        {
          "output_type": "display_data",
          "data": {
            "text/plain": [
              "<IPython.core.display.HTML object>"
            ],
            "text/html": [
              "\n",
              "<style>\n",
              "    /* Turns off some styling */\n",
              "    progress {\n",
              "        /* gets rid of default border in Firefox and Opera. */\n",
              "        border: none;\n",
              "        /* Needs to be in here for Safari polyfill so background images work as expected. */\n",
              "        background-size: auto;\n",
              "    }\n",
              "    progress:not([value]), progress:not([value])::-webkit-progress-bar {\n",
              "        background: repeating-linear-gradient(45deg, #7e7e7e, #7e7e7e 10px, #5c5c5c 10px, #5c5c5c 20px);\n",
              "    }\n",
              "    .progress-bar-interrupted, .progress-bar-interrupted::-webkit-progress-bar {\n",
              "        background: #F44336;\n",
              "    }\n",
              "</style>\n"
            ]
          },
          "metadata": {}
        },
        {
          "output_type": "display_data",
          "data": {
            "text/plain": [
              "<IPython.core.display.HTML object>"
            ],
            "text/html": [
              "<table border=\"1\" class=\"dataframe\">\n",
              "  <thead>\n",
              "    <tr style=\"text-align: left;\">\n",
              "      <th>Epoch</th>\n",
              "      <th>Train Loss</th>\n",
              "      <th>Valid  Loss</th>\n",
              "      <th>Time</th>\n",
              "    </tr>\n",
              "  </thead>\n",
              "  <tbody>\n",
              "    <tr>\n",
              "      <td>0</td>\n",
              "      <td>0.46646</td>\n",
              "      <td>0.44142</td>\n",
              "      <td>00:29</td>\n",
              "    </tr>\n",
              "    <tr>\n",
              "      <td>1</td>\n",
              "      <td>0.35129</td>\n",
              "      <td>0.43986</td>\n",
              "      <td>00:04</td>\n",
              "    </tr>\n",
              "    <tr>\n",
              "      <td>2</td>\n",
              "      <td>0.33118</td>\n",
              "      <td>0.32263</td>\n",
              "      <td>00:03</td>\n",
              "    </tr>\n",
              "    <tr>\n",
              "      <td>3</td>\n",
              "      <td>0.28775</td>\n",
              "      <td>0.41276</td>\n",
              "      <td>00:03</td>\n",
              "    </tr>\n",
              "    <tr>\n",
              "      <td>4</td>\n",
              "      <td>0.27791</td>\n",
              "      <td>0.52472</td>\n",
              "      <td>00:03</td>\n",
              "    </tr>\n",
              "    <tr>\n",
              "      <td>5</td>\n",
              "      <td>0.25522</td>\n",
              "      <td>0.33479</td>\n",
              "      <td>00:02</td>\n",
              "    </tr>\n",
              "    <tr>\n",
              "      <td>6</td>\n",
              "      <td>0.23055</td>\n",
              "      <td>1.07620</td>\n",
              "      <td>00:02</td>\n",
              "    </tr>\n",
              "    <tr>\n",
              "      <td>7</td>\n",
              "      <td>0.18466</td>\n",
              "      <td>0.32997</td>\n",
              "      <td>00:02</td>\n",
              "    </tr>\n",
              "    <tr>\n",
              "      <td>8</td>\n",
              "      <td>0.13865</td>\n",
              "      <td>0.38908</td>\n",
              "      <td>00:03</td>\n",
              "    </tr>\n",
              "    <tr>\n",
              "      <td>9</td>\n",
              "      <td>0.10852</td>\n",
              "      <td>0.39415</td>\n",
              "      <td>00:03</td>\n",
              "    </tr>\n",
              "    <tr>\n",
              "      <td>10</td>\n",
              "      <td>0.07790</td>\n",
              "      <td>0.37112</td>\n",
              "      <td>00:03</td>\n",
              "    </tr>\n",
              "    <tr>\n",
              "      <td>11</td>\n",
              "      <td>0.06434</td>\n",
              "      <td>0.37083</td>\n",
              "      <td>00:02</td>\n",
              "    </tr>\n",
              "  </tbody>\n",
              "</table>"
            ]
          },
          "metadata": {}
        }
      ],
      "source": [
        "r_agent.train_supervised(32, 12, 1e-3)"
      ]
    },
    {
      "cell_type": "markdown",
      "metadata": {
        "id": "7f_XIeK0bhNP"
      },
      "source": [
        "Optional: save score function weights"
      ]
    },
    {
      "cell_type": "code",
      "execution_count": 21,
      "metadata": {
        "id": "1wFHyRUwbhNP"
      },
      "outputs": [],
      "source": [
        "r_agent.save_weights('untracked_files/amp_predictor.pt')"
      ]
    },
    {
      "cell_type": "markdown",
      "metadata": {
        "id": "ZqqhgWlHbhNP"
      },
      "source": [
        "Optional: to load the exact weights used, run the following:"
      ]
    },
    {
      "cell_type": "code",
      "execution_count": 22,
      "metadata": {
        "id": "9cKEgbydbhNQ"
      },
      "outputs": [],
      "source": [
        "r_agent.load_state_dict(model_from_url('amp_predictor.pt'))"
      ]
    },
    {
      "cell_type": "code",
      "execution_count": 22,
      "metadata": {
        "id": "E74T6BFJbhNQ"
      },
      "outputs": [],
      "source": []
    },
    {
      "cell_type": "code",
      "execution_count": 23,
      "metadata": {
        "id": "Wq74di2SbhNR"
      },
      "outputs": [],
      "source": [
        "# validate\n",
        "\n",
        "valid_dl = test_ds.dataloader(256, shuffle=False)\n",
        "r_agent.model.eval();\n",
        "\n",
        "preds = []\n",
        "targs = []\n",
        "\n",
        "with torch.no_grad():\n",
        "    for i, batch in enumerate(valid_dl):\n",
        "        batch = to_device(batch)\n",
        "        x,y = batch\n",
        "        pred = r_agent.model(x)\n",
        "        preds.append(pred.detach().cpu())\n",
        "        targs.append(y.detach().cpu())\n",
        "\n",
        "preds = torch.cat(preds).numpy()\n",
        "targs = torch.cat(targs).numpy()"
      ]
    },
    {
      "cell_type": "code",
      "execution_count": 24,
      "metadata": {
        "id": "2yBY586bbhNR",
        "outputId": "1dc18f07-59b0-4324-d6dd-1fc672a210ac",
        "colab": {
          "base_uri": "https://localhost:8080/",
          "height": 472
        }
      },
      "outputs": [
        {
          "output_type": "display_data",
          "data": {
            "text/plain": [
              "<Figure size 640x480 with 1 Axes>"
            ],
            "image/png": "[encoded data removed]"
          },
          "metadata": {}
        }
      ],
      "source": [
        "fpr, tpr, _ = roc_curve(targs, torch.tensor(preds).sigmoid().squeeze().numpy())\n",
        "roc_auc = auc(fpr, tpr)\n",
        "\n",
        "plt.figure()\n",
        "lw = 2\n",
        "plt.plot(fpr, tpr, color='darkorange',\n",
        "         lw=lw, label='ROC curve (area = %0.4f)' % roc_auc)\n",
        "plt.plot([0, 1], [0, 1], color='navy', lw=lw, linestyle='--')\n",
        "plt.xlim([0.0, 1.0])\n",
        "plt.ylim([0.0, 1.05])\n",
        "plt.xlabel('False Positive Rate')\n",
        "plt.ylabel('True Positive Rate')\n",
        "plt.title('Receiver operating characteristic example')\n",
        "plt.legend(loc=\"lower right\")\n",
        "plt.show()"
      ]
    },
    {
      "cell_type": "markdown",
      "metadata": {
        "id": "rG6HXVkrbhNR"
      },
      "source": [
        "## Chemical Space\n",
        "\n",
        "Next we need to develop our chemical space. This is where we decide what sequences will be allowed and what sequences will be removed.\n",
        "\n",
        "Getting the right filtering parameters makes a huge difference in sequence quality. In practice, finding the right constraints is an interative process. First run a generative screen. Then examine the highest scoring sequences and look for undesirable properties or structural features. Then update the template and iterate.\n",
        "\n",
        "For peptides, the presence of Arginine has shown to be toxic [[ref](https://www.ncbi.nlm.nih.gov/pmc/articles/PMC5625148/)]. We will apply a template filter for the number of Arginine residues per unit length.\n",
        "\n",
        "We will also limit the maximum residue frequency in a sample to 0.4. This prevents a common failure mode of seeing the same residue repeated multiple times (ie `MSSSSSSSRP`). This is a flaw in the simplistic score functions we are using"
      ]
    },
    {
      "cell_type": "code",
      "execution_count": 25,
      "metadata": {
        "id": "MyUk1ceGbhNT"
      },
      "outputs": [],
      "source": [
        "aa_vocab = CharacterVocab(AMINO_ACID_VOCAB)\n",
        "\n",
        "template = Template([ValidityFilter(),\n",
        "                     CharacterCountFilter(['A'], min_val=0, max_val=0.1, per_length=True, mode='protein'),\n",
        "                     CharacterCountFilter(aa_vocab.itos[4:], min_val=0, max_val=0.3,\n",
        "                                          per_length=True, mode='protein')],\n",
        "                    [], fail_score=-10., log=False, use_lookup=False, mode='protein')\n",
        "\n",
        "template_cb = TemplateCallback(template, prefilter=True)"
      ]
    },
    {
      "cell_type": "markdown",
      "metadata": {
        "id": "_W8M6ncIbhNT"
      },
      "source": [
        "## Load Model\n",
        "\n",
        "We load the `LSTM_LM_Small_Swissprot` model. This is a basic LSTM-based language model trained on part of the Swissprot protein database"
      ]
    },
    {
      "cell_type": "code",
      "execution_count": 26,
      "metadata": {
        "id": "DvNx7wAAbhNU"
      },
      "outputs": [],
      "source": [
        "agent = LSTM_LM_Small_Swissprot(drop_scale=0.3, opt_kwargs={'lr':1e-4})"
      ]
    },
    {
      "cell_type": "markdown",
      "metadata": {
        "id": "fcO4pnPsbhNU"
      },
      "source": [
        "## Fine-Tune Model\n",
        "\n",
        "The pretrained model we loaded is a very general model that can produce a high diversity of structures. However, what we actually want are structues with antimicrobial activity. To induce this, we fine-tune on the active peptides in the dataset"
      ]
    },
    {
      "cell_type": "code",
      "execution_count": 27,
      "metadata": {
        "id": "mJlD8qZVbhNU",
        "outputId": "21c7ca53-9de9-4f19-b284-39fc3cd37f98",
        "colab": {
          "base_uri": "https://localhost:8080/",
          "height": 300
        }
      },
      "outputs": [
        {
          "output_type": "display_data",
          "data": {
            "text/plain": [
              "<IPython.core.display.HTML object>"
            ],
            "text/html": [
              "\n",
              "<style>\n",
              "    /* Turns off some styling */\n",
              "    progress {\n",
              "        /* gets rid of default border in Firefox and Opera. */\n",
              "        border: none;\n",
              "        /* Needs to be in here for Safari polyfill so background images work as expected. */\n",
              "        background-size: auto;\n",
              "    }\n",
              "    progress:not([value]), progress:not([value])::-webkit-progress-bar {\n",
              "        background: repeating-linear-gradient(45deg, #7e7e7e, #7e7e7e 10px, #5c5c5c 10px, #5c5c5c 20px);\n",
              "    }\n",
              "    .progress-bar-interrupted, .progress-bar-interrupted::-webkit-progress-bar {\n",
              "        background: #F44336;\n",
              "    }\n",
              "</style>\n"
            ]
          },
          "metadata": {}
        },
        {
          "output_type": "display_data",
          "data": {
            "text/plain": [
              "<IPython.core.display.HTML object>"
            ],
            "text/html": [
              "<table border=\"1\" class=\"dataframe\">\n",
              "  <thead>\n",
              "    <tr style=\"text-align: left;\">\n",
              "      <th>Epoch</th>\n",
              "      <th>Train Loss</th>\n",
              "      <th>Valid  Loss</th>\n",
              "      <th>Time</th>\n",
              "    </tr>\n",
              "  </thead>\n",
              "  <tbody>\n",
              "    <tr>\n",
              "      <td>0</td>\n",
              "      <td>0.99917</td>\n",
              "      <td>1.15202</td>\n",
              "      <td>00:14</td>\n",
              "    </tr>\n",
              "    <tr>\n",
              "      <td>1</td>\n",
              "      <td>0.99513</td>\n",
              "      <td>1.05236</td>\n",
              "      <td>00:13</td>\n",
              "    </tr>\n",
              "    <tr>\n",
              "      <td>2</td>\n",
              "      <td>0.89445</td>\n",
              "      <td>0.99219</td>\n",
              "      <td>00:13</td>\n",
              "    </tr>\n",
              "    <tr>\n",
              "      <td>3</td>\n",
              "      <td>0.87314</td>\n",
              "      <td>0.97872</td>\n",
              "      <td>00:13</td>\n",
              "    </tr>\n",
              "    <tr>\n",
              "      <td>4</td>\n",
              "      <td>0.87869</td>\n",
              "      <td>0.96964</td>\n",
              "      <td>00:13</td>\n",
              "    </tr>\n",
              "    <tr>\n",
              "      <td>5</td>\n",
              "      <td>0.88585</td>\n",
              "      <td>0.96317</td>\n",
              "      <td>00:13</td>\n",
              "    </tr>\n",
              "    <tr>\n",
              "      <td>6</td>\n",
              "      <td>0.86784</td>\n",
              "      <td>0.96106</td>\n",
              "      <td>00:14</td>\n",
              "    </tr>\n",
              "    <tr>\n",
              "      <td>7</td>\n",
              "      <td>0.87362</td>\n",
              "      <td>0.96082</td>\n",
              "      <td>00:13</td>\n",
              "    </tr>\n",
              "  </tbody>\n",
              "</table>"
            ]
          },
          "metadata": {}
        }
      ],
      "source": [
        "agent.update_dataset_from_inputs(df[df.label==1].sequence.values)\n",
        "agent.train_supervised(32, 8, 5e-5)\n",
        "agent.base_to_model()"
      ]
    },
    {
      "cell_type": "markdown",
      "metadata": {
        "id": "JHDMZaFIbhNV"
      },
      "source": [
        "Optional: save fine-tuned weights"
      ]
    },
    {
      "cell_type": "code",
      "execution_count": 28,
      "metadata": {
        "id": "GBsXCPdnbhNV"
      },
      "outputs": [],
      "source": [
        "agent.save_weights('untracked_files/finetuned_model.pt')"
      ]
    },
    {
      "cell_type": "code",
      "execution_count": 29,
      "metadata": {
        "id": "0bURJlJ0bhNV"
      },
      "outputs": [],
      "source": [
        "agent.load_weights('untracked_files/finetuned_model.pt')"
      ]
    },
    {
      "cell_type": "markdown",
      "metadata": {
        "id": "QhgPRek1bhNV"
      },
      "source": [
        "# Reinforcement Learning\n",
        "\n",
        "Now we enter the reinforcement learning stage"
      ]
    },
    {
      "cell_type": "markdown",
      "metadata": {
        "id": "j8XbBCA8bhNW"
      },
      "source": [
        "### Loss\n",
        "\n",
        "We use `PPO` as our policy gradient loss"
      ]
    },
    {
      "cell_type": "code",
      "execution_count": 30,
      "metadata": {
        "id": "JJhb60g1bhNW"
      },
      "outputs": [],
      "source": [
        "pg = PPO(0.99,\n",
        "        0.5,\n",
        "        lam=0.95,\n",
        "        v_coef=0.5,\n",
        "        cliprange=0.3,\n",
        "        v_cliprange=0.3,\n",
        "        ent_coef=0.01,\n",
        "        kl_target=0.03,\n",
        "        kl_horizon=3000,\n",
        "        scale_rewards=True)\n",
        "\n",
        "loss = PolicyLoss(pg, 'PPO',\n",
        "                   value_head=ValueHead(256),\n",
        "                   v_update_iter=2,\n",
        "                   vopt_kwargs={'lr':1e-3})"
      ]
    },
    {
      "cell_type": "markdown",
      "metadata": {
        "id": "Za3zRlcNbhNX"
      },
      "source": [
        "### Reward\n",
        "\n",
        "Here we pass the reward agent we trained earlier to a callback.\n",
        "\n",
        "Since our model is a classification model, we have a decision with respect to what value we output from our score function. We could output the raw logit value from the model, or the sigmoid-scaled classification prediction.\n",
        "\n",
        "If we use the sigmoid-scaled output, we tend to get lots of samples with scores in the `0.999` range that only differ by a very small amount. This can make it difficult to differentiate the true winners.\n",
        "\n",
        "If we use the logit output, we can get much better differentiation of samples at the top end. However, we have a much higher chance of finding weird samples that get absurd logit values.\n",
        "\n",
        "The code below uses the raw logit value, clipped to a range of `[-10, 10]`"
      ]
    },
    {
      "cell_type": "code",
      "execution_count": 31,
      "metadata": {
        "id": "KqjicD8abhNX"
      },
      "outputs": [],
      "source": [
        "d_vocab = len(aa_vocab.itos)\n",
        "d_embedding = 256\n",
        "d_latent = 512\n",
        "filters = [256, 512, 1024]\n",
        "kernel_sizes = [7, 7, 7]\n",
        "strides = [2,2,2]\n",
        "dropouts = [0.2, 0.2, 0.2]\n",
        "mlp_dims = [512, 256, 128]\n",
        "mlp_drops = [0.2, 0.2, 0.2]\n",
        "d_out = 1\n",
        "\n",
        "\n",
        "reward_model = Predictive_CNN(\n",
        "                    d_vocab,\n",
        "                    d_embedding,\n",
        "                    d_latent,\n",
        "                    filters,\n",
        "                    kernel_sizes,\n",
        "                    strides,\n",
        "                    dropouts,\n",
        "                    mlp_dims,\n",
        "                    mlp_drops,\n",
        "                    d_out\n",
        "                )\n",
        "\n",
        "\n",
        "r_ds = Text_Prediction_Dataset(['M'], [0.], aa_vocab)\n",
        "\n",
        "r_agent = PredictiveAgent(reward_model, BinaryCrossEntropy(), r_ds, opt_kwargs={'lr':1e-3})\n",
        "\n",
        "#r_agent.load_weights('untracked_files/amp_predictor.pt')\n",
        "r_agent.load_state_dict(model_from_url('amp_predictor.pt')) # optional - load exact weights\n",
        "\n",
        "reward_model.eval();\n",
        "\n",
        "freeze(reward_model)\n",
        "\n",
        "class ClippedModelReward():\n",
        "    def __init__(self, agent, minclip, maxclip):\n",
        "        self.agent = agent\n",
        "        self.minclip = minclip\n",
        "        self.maxclip = maxclip\n",
        "\n",
        "    def __call__(self, sequences):\n",
        "        preds = self.agent.predict_data(sequences)\n",
        "        preds = torch.clamp(preds, self.minclip, self.maxclip)\n",
        "        return preds\n",
        "\n",
        "reward_function = Reward(ClippedModelReward(r_agent, -10, 10), weight=1)\n",
        "\n",
        "amp_reward = RewardCallback(reward_function, 'amp')"
      ]
    },
    {
      "cell_type": "markdown",
      "metadata": {
        "id": "3x2cEQpPbhNY"
      },
      "source": [
        "### Optional Reward: Stability Metric\n",
        "\n",
        "There has been a lot of great work recently looking at large scale transformer language models for unsupervised learning of protein structures. One interesting thing that has emerged is a rough relationship between the protein sequence log probability given by a generative model and the stability of the protein sequence.\n",
        "\n",
        "We can use the log probability values from a pretrained protein transformer model as a proxy for stability. Including this as a reward function can help keep the generated peptides realistic.\n",
        "\n",
        "To include this as a reward term, run the code below to install the [ESM](https://github.com/facebookresearch/esm) library to access a pretrained protein transformer model.\n",
        "\n",
        "In the interest of time, we will use the smallest ESM model with 43M parameters, rather than the large scale 630M parameter model. Note that even with the smaller model, this reward term adds significanly to the training runtime"
      ]
    },
    {
      "cell_type": "code",
      "execution_count": 32,
      "metadata": {
        "id": "pHS8ZFjZbhNY",
        "outputId": "be8044b3-7ea3-47ea-9e89-a39c7611c29d",
        "colab": {
          "base_uri": "https://localhost:8080/"
        }
      },
      "outputs": [
        {
          "output_type": "stream",
          "name": "stdout",
          "text": [
            "Requirement already satisfied: fair-esm in /usr/local/lib/python3.11/dist-packages (2.0.0)\n"
          ]
        }
      ],
      "source": [
        "# Optional: insall ESM\n",
        "! pip install fair-esm"
      ]
    },
    {
      "cell_type": "code",
      "execution_count": 33,
      "metadata": {
        "id": "ROz0xBk2bhNY"
      },
      "outputs": [],
      "source": [
        "import esm"
      ]
    },
    {
      "cell_type": "code",
      "execution_count": 34,
      "metadata": {
        "id": "lk-OAfDJbhNZ"
      },
      "outputs": [],
      "source": [
        "protein_model, alphabet = esm.pretrained.esm1_t6_43M_UR50S()\n",
        "batch_converter = alphabet.get_batch_converter()"
      ]
    },
    {
      "cell_type": "code",
      "execution_count": 35,
      "metadata": {
        "id": "wUAHbrfebhNZ"
      },
      "outputs": [],
      "source": [
        "class PeptideStability():\n",
        "    def __init__(self, model, alphabet, batch_converter):\n",
        "        self.model = model\n",
        "        to_device(self.model)\n",
        "        self.alphabet = alphabet\n",
        "        self.batch_converter = batch_converter\n",
        "\n",
        "    def __call__(self, samples):\n",
        "\n",
        "        data = [\n",
        "            (f'protein{i}', samples[i]) for i in range(len(samples))\n",
        "        ]\n",
        "\n",
        "        batch_labels, batch_strs, batch_tokens = self.batch_converter(data)\n",
        "\n",
        "        with torch.no_grad():\n",
        "            results = self.model(to_device(batch_tokens))\n",
        "\n",
        "        lps = F.log_softmax(results['logits'], -1)\n",
        "\n",
        "        mean_lps = lps.gather(2, to_device(batch_tokens).unsqueeze(-1)).squeeze(-1).mean(-1)\n",
        "\n",
        "        return mean_lps"
      ]
    },
    {
      "cell_type": "code",
      "execution_count": 36,
      "metadata": {
        "id": "1yM8JgPEbhNZ"
      },
      "outputs": [],
      "source": [
        "ps = PeptideStability(protein_model, alphabet, batch_converter)"
      ]
    },
    {
      "cell_type": "code",
      "execution_count": 37,
      "metadata": {
        "id": "18xYPoSFbhNZ"
      },
      "outputs": [],
      "source": [
        "stability_reward = Reward(ps, weight=0.1, bs=300)\n",
        "stability_cb = RewardCallback(stability_reward, name='stability')"
      ]
    },
    {
      "cell_type": "code",
      "execution_count": 38,
      "metadata": {
        "id": "Q-fx3OrybhNa",
        "outputId": "b1360dca-d9e3-46c0-ba28-68efb91e558d",
        "colab": {
          "base_uri": "https://localhost:8080/"
        }
      },
      "outputs": [
        {
          "output_type": "execute_result",
          "data": {
            "text/plain": [
              "tensor([-2.6915, -3.0885, -3.0648, -1.6828, -0.1794, -3.9859, -3.7000, -3.5714,\n",
              "        -2.2517, -3.6625], device='cuda:0')"
            ]
          },
          "metadata": {},
          "execution_count": 38
        }
      ],
      "source": [
        "stability_reward(df.sequence.values[:10])"
      ]
    },
    {
      "cell_type": "markdown",
      "metadata": {
        "id": "Ov9_kt1nbhNa"
      },
      "source": [
        "### Samplers\n",
        "\n",
        "We create the following samplers:\n",
        "- `sampler1 ModelSampler`: this samples from the main model. This sample will add 1000 compounds to the buffer each buffer build, and sample 40% of each batch on the fly from the main model.\n",
        "- `sampler2 ModelSampler`: this samples from the baseline model and is not sampled live on each batch\n",
        "- `sampler3 LogSampler`: this samples high scoring samples from the lig\n",
        "- `sampler4 TokenSwapSampler`: this uses token swap comibichem to generate new samples from high scoring samples\n",
        "- `sampler5 DatasetSampler`: this sprinkles in a small amount of known actives into each buffer build. Note that we subset by peptide length to align with the generated length (75 amino acids)"
      ]
    },
    {
      "cell_type": "code",
      "execution_count": 39,
      "metadata": {
        "id": "aIMwjc9sbhNa"
      },
      "outputs": [],
      "source": [
        "gen_bs = 1500\n",
        "\n",
        "sampler1 = ModelSampler(agent.vocab, agent.model, 'live', 1000, 0., gen_bs)\n",
        "sampler2 = ModelSampler(agent.vocab, agent.base_model, 'base', 1000, 0., gen_bs)\n",
        "sampler3 = LogSampler('samples', 'rewards', 10, 98, 200)\n",
        "sampler4 = TokenSwapSampler('samples', 'rewards', 10, 98, 200, aa_vocab, 0.2)\n",
        "sampler5 = DatasetSampler(df[(df.label==1) & (df.sequence.map(lambda x: len(x)<=75))].sequence.values,\n",
        "                          'data', buffer_size=4)\n",
        "\n",
        "samplers = [sampler1, sampler2, sampler3, sampler4, sampler5]"
      ]
    },
    {
      "cell_type": "markdown",
      "metadata": {
        "id": "30qHWJD2bhNb"
      },
      "source": [
        "### Callbacks\n",
        "\n",
        "Additional callbacks\n",
        "- `SupervisedCB`: runs supervised training on the top 3% of samples every 400 batches\n",
        "- `MaxCallback`: prints the max reward for each batch\n",
        "- `PercentileCallback`: prints the 90th percentile score each batch"
      ]
    },
    {
      "cell_type": "code",
      "execution_count": 40,
      "metadata": {
        "id": "FhoWRpe7bhNb"
      },
      "outputs": [],
      "source": [
        "supervised_cb = SupervisedCB(agent, 20, 0.5, 98, 1e-4, 64)\n",
        "live_max = MaxCallback('rewards', 'live')\n",
        "live_p90 = PercentileCallback('rewards', 'live', 90)\n",
        "\n",
        "cbs = [supervised_cb, live_p90, live_max]"
      ]
    },
    {
      "cell_type": "markdown",
      "metadata": {
        "id": "WfBczIWmbhNb"
      },
      "source": [
        "## Environment and Train\n",
        "\n",
        "Now we can put together our Environment and run the training process"
      ]
    },
    {
      "cell_type": "code",
      "execution_count": 41,
      "metadata": {
        "id": "69L0b8PmbhNc"
      },
      "outputs": [],
      "source": [
        "env = Environment(agent, template_cb, samplers=samplers, rewards=[amp_reward, stability_cb], losses=[loss],\n",
        "                 cbs=cbs)"
      ]
    },
    {
      "cell_type": "code",
      "execution_count": 42,
      "metadata": {
        "id": "v_0Ap6l7bhNc"
      },
      "outputs": [],
      "source": [
        "set_global_pool(min(12, os.cpu_count()))"
      ]
    },
    {
      "cell_type": "code",
      "execution_count": 49,
      "metadata": {
        "id": "F2BHzXhrbhNc",
        "outputId": "9db61e22-c0e5-41c3-a80d-cbe42e349216",
        "colab": {
          "base_uri": "https://localhost:8080/",
          "height": 1000
        }
      },
      "outputs": [
        {
          "output_type": "stream",
          "name": "stderr",
          "text": [
            "\u001b[36m(pid=10863)\u001b[0m WARNING: All log messages before absl::InitializeLog() is called are written to STDERR\n",
            "\u001b[36m(pid=10863)\u001b[0m E0000 00:00:1745341710.820666   10863 cuda_dnn.cc:8310] Unable to register cuDNN factory: Attempting to register factory for plugin cuDNN when one has already been registered\n",
            "\u001b[36m(pid=10863)\u001b[0m E0000 00:00:1745341710.831413   10863 cuda_blas.cc:1418] Unable to register cuBLAS factory: Attempting to register factory for plugin cuBLAS when one has already been registered\n",
            "\u001b[36m(SingleAgentEnvRunner pid=10863)\u001b[0m Exception raised in creation task: The actor died because of an error raised in its creation task, \u001b[36mray::SingleAgentEnvRunner.__init__()\u001b[39m (pid=10863, ip=172.28.0.12, actor_id=3507741c4fa87cc56403186201000000, repr=<ray.rllib.env.single_agent_env_runner.SingleAgentEnvRunner object at 0x7a14e6484790>)\n",
            "\u001b[36m(SingleAgentEnvRunner pid=10863)\u001b[0m            ^^^^^^^^^^^^^^^^^^^^^^^^^^^^^^^^^^^^\n",
            "\u001b[36m(SingleAgentEnvRunner pid=10863)\u001b[0m            ^^^^^^^^^^^^^^^^^^^^^^^^^^^^^^^\n",
            "\u001b[36m(SingleAgentEnvRunner pid=10863)\u001b[0m   File \"/usr/local/lib/python3.11/dist-packages/ray/rllib/env/single_agent_env_runner.py\", line 99, in __init__\n",
            "\u001b[36m(SingleAgentEnvRunner pid=10863)\u001b[0m     self.make_env()\n",
            "\u001b[36m(SingleAgentEnvRunner pid=10863)\u001b[0m            ^^^^^^^^^^^^^^^^^^^^^^^^^^^^^^^\n",
            "\u001b[36m(SingleAgentEnvRunner pid=10863)\u001b[0m   File \"/usr/local/lib/python3.11/dist-packages/ray/rllib/env/single_agent_env_runner.py\", line 657, in make_env\n",
            "\u001b[36m(SingleAgentEnvRunner pid=10863)\u001b[0m     gym.make_vec(\n",
            "\u001b[36m(SingleAgentEnvRunner pid=10863)\u001b[0m   File \"/usr/local/lib/python3.11/dist-packages/gymnasium/envs/registration.py\", line 918, in make_vec\n",
            "\u001b[36m(SingleAgentEnvRunner pid=10863)\u001b[0m     env = gym.vector.SyncVectorEnv(\n",
            "\u001b[36m(SingleAgentEnvRunner pid=10863)\u001b[0m           ^^^^^^^^^^^^^^^^^^^^^^^^^\n",
            "\u001b[36m(SingleAgentEnvRunner pid=10863)\u001b[0m   File \"/usr/local/lib/python3.11/dist-packages/gymnasium/vector/sync_vector_env.py\", line 86, in __init__\n",
            "\u001b[36m(SingleAgentEnvRunner pid=10863)\u001b[0m     self.envs = [env_fn() for env_fn in env_fns]\n",
            "\u001b[36m(SingleAgentEnvRunner pid=10863)\u001b[0m                 ^^^^^^^^^^^^^^^^^^^^^^^^^^^^^^^^\n",
            "\u001b[36m(SingleAgentEnvRunner pid=10863)\u001b[0m   File \"/usr/local/lib/python3.11/dist-packages/gymnasium/vector/sync_vector_env.py\", line 86, in <listcomp>\n",
            "\u001b[36m(SingleAgentEnvRunner pid=10863)\u001b[0m     self.envs = [env_fn() for env_fn in env_fns]\n",
            "\u001b[36m(SingleAgentEnvRunner pid=10863)\u001b[0m                  ^^^^^^^^\n",
            "\u001b[36m(SingleAgentEnvRunner pid=10863)\u001b[0m   File \"/usr/local/lib/python3.11/dist-packages/gymnasium/envs/registration.py\", line 903, in create_single_env\n",
            "\u001b[36m(SingleAgentEnvRunner pid=10863)\u001b[0m     single_env = make(env_spec, **env_spec_kwargs.copy())\n",
            "\u001b[36m(SingleAgentEnvRunner pid=10863)\u001b[0m                  ^^^^^^^^^^^^^^^^^^^^^^^^^^^^^^^^^^^^^^^^\n",
            "\u001b[36m(SingleAgentEnvRunner pid=10863)\u001b[0m   File \"/usr/local/lib/python3.11/dist-packages/gymnasium/envs/registration.py\", line 740, in make\n",
            "\u001b[36m(SingleAgentEnvRunner pid=10863)\u001b[0m     env = env_creator(**env_spec_kwargs)\n",
            "\u001b[36m(SingleAgentEnvRunner pid=10863)\u001b[0m           ^^^^^^^^^^^^^^^^^^^^^^^^^^^^^^\n",
            "\u001b[36m(SingleAgentEnvRunner pid=10863)\u001b[0m   File \"<ipython-input-49-3d62c870fe1a>\", line 6, in create_env\n",
            "\u001b[36m(SingleAgentEnvRunner pid=10863)\u001b[0m ImportError: cannot import name 'load_config' from 'mrl' (/usr/local/lib/python3.11/dist-packages/mrl/__init__.py)\n",
            "\u001b[36m(pid=10864)\u001b[0m WARNING: All log messages before absl::InitializeLog() is called are written to STDERR\n",
            "\u001b[36m(pid=10864)\u001b[0m E0000 00:00:1745341710.885635   10864 cuda_dnn.cc:8310] Unable to register cuDNN factory: Attempting to register factory for plugin cuDNN when one has already been registered\n",
            "\u001b[36m(pid=10864)\u001b[0m E0000 00:00:1745341710.907451   10864 cuda_blas.cc:1418] Unable to register cuBLAS factory: Attempting to register factory for plugin cuBLAS when one has already been registered\n",
            "2025-04-22 17:08:45,747\tERROR actor_manager.py:873 -- Ray error (The actor died because of an error raised in its creation task, \u001b[36mray::SingleAgentEnvRunner.__init__()\u001b[39m (pid=10863, ip=172.28.0.12, actor_id=3507741c4fa87cc56403186201000000, repr=<ray.rllib.env.single_agent_env_runner.SingleAgentEnvRunner object at 0x7a14e6484790>)\n",
            "           ^^^^^^^^^^^^^^^^^^^^^^^^^^^^^^^^^^^^\n",
            "           ^^^^^^^^^^^^^^^^^^^^^^^^^^^^^^^\n",
            "  File \"/usr/local/lib/python3.11/dist-packages/ray/rllib/env/single_agent_env_runner.py\", line 99, in __init__\n",
            "    self.make_env()\n",
            "           ^^^^^^^^^^^^^^^^^^^^^^^^^^^^^^^\n",
            "  File \"/usr/local/lib/python3.11/dist-packages/ray/rllib/env/single_agent_env_runner.py\", line 657, in make_env\n",
            "    gym.make_vec(\n",
            "  File \"/usr/local/lib/python3.11/dist-packages/gymnasium/envs/registration.py\", line 918, in make_vec\n",
            "    env = gym.vector.SyncVectorEnv(\n",
            "          ^^^^^^^^^^^^^^^^^^^^^^^^^\n",
            "  File \"/usr/local/lib/python3.11/dist-packages/gymnasium/vector/sync_vector_env.py\", line 86, in __init__\n",
            "    self.envs = [env_fn() for env_fn in env_fns]\n",
            "                ^^^^^^^^^^^^^^^^^^^^^^^^^^^^^^^^\n",
            "  File \"/usr/local/lib/python3.11/dist-packages/gymnasium/vector/sync_vector_env.py\", line 86, in <listcomp>\n",
            "    self.envs = [env_fn() for env_fn in env_fns]\n",
            "                 ^^^^^^^^\n",
            "  File \"/usr/local/lib/python3.11/dist-packages/gymnasium/envs/registration.py\", line 903, in create_single_env\n",
            "    single_env = make(env_spec, **env_spec_kwargs.copy())\n",
            "                 ^^^^^^^^^^^^^^^^^^^^^^^^^^^^^^^^^^^^^^^^\n",
            "  File \"/usr/local/lib/python3.11/dist-packages/gymnasium/envs/registration.py\", line 740, in make\n",
            "    env = env_creator(**env_spec_kwargs)\n",
            "          ^^^^^^^^^^^^^^^^^^^^^^^^^^^^^^\n",
            "  File \"<ipython-input-49-3d62c870fe1a>\", line 6, in create_env\n",
            "ImportError: cannot import name 'load_config' from 'mrl' (/usr/local/lib/python3.11/dist-packages/mrl/__init__.py)), taking actor 1 out of service.\n",
            "2025-04-22 17:08:45,752\tERROR actor_manager.py:873 -- Ray error (The actor died because of an error raised in its creation task, \u001b[36mray::SingleAgentEnvRunner.__init__()\u001b[39m (pid=10864, ip=172.28.0.12, actor_id=c47bbb93b19abe56a6e0562601000000, repr=<ray.rllib.env.single_agent_env_runner.SingleAgentEnvRunner object at 0x7f1b6a31d390>)\n",
            "           ^^^^^^^^^^^^^^^^^^^^^^^^^^^^^^^^^^^^\n",
            "           ^^^^^^^^^^^^^^^^^^^^^^^^^^^^^^^\n",
            "  File \"/usr/local/lib/python3.11/dist-packages/ray/rllib/env/single_agent_env_runner.py\", line 99, in __init__\n",
            "    self.make_env()\n",
            "           ^^^^^^^^^^^^^^^^^^^^^^^^^^^^^^^\n",
            "  File \"/usr/local/lib/python3.11/dist-packages/ray/rllib/env/single_agent_env_runner.py\", line 657, in make_env\n",
            "    gym.make_vec(\n",
            "  File \"/usr/local/lib/python3.11/dist-packages/gymnasium/envs/registration.py\", line 918, in make_vec\n",
            "    env = gym.vector.SyncVectorEnv(\n",
            "          ^^^^^^^^^^^^^^^^^^^^^^^^^\n",
            "  File \"/usr/local/lib/python3.11/dist-packages/gymnasium/vector/sync_vector_env.py\", line 86, in __init__\n",
            "    self.envs = [env_fn() for env_fn in env_fns]\n",
            "                ^^^^^^^^^^^^^^^^^^^^^^^^^^^^^^^^\n",
            "  File \"/usr/local/lib/python3.11/dist-packages/gymnasium/vector/sync_vector_env.py\", line 86, in <listcomp>\n",
            "    self.envs = [env_fn() for env_fn in env_fns]\n",
            "                 ^^^^^^^^\n",
            "  File \"/usr/local/lib/python3.11/dist-packages/gymnasium/envs/registration.py\", line 903, in create_single_env\n",
            "    single_env = make(env_spec, **env_spec_kwargs.copy())\n",
            "                 ^^^^^^^^^^^^^^^^^^^^^^^^^^^^^^^^^^^^^^^^\n",
            "  File \"/usr/local/lib/python3.11/dist-packages/gymnasium/envs/registration.py\", line 740, in make\n",
            "    env = env_creator(**env_spec_kwargs)\n",
            "          ^^^^^^^^^^^^^^^^^^^^^^^^^^^^^^\n",
            "  File \"<ipython-input-49-3d62c870fe1a>\", line 6, in create_env\n",
            "ImportError: cannot import name 'load_config' from 'mrl' (/usr/local/lib/python3.11/dist-packages/mrl/__init__.py)), taking actor 2 out of service.\n",
            "2025-04-22 17:08:45,753\tERROR env_runner_group.py:718 -- Validation of EnvRunner failed! Error=The actor died because of an error raised in its creation task, \u001b[36mray::SingleAgentEnvRunner.__init__()\u001b[39m (pid=10863, ip=172.28.0.12, actor_id=3507741c4fa87cc56403186201000000, repr=<ray.rllib.env.single_agent_env_runner.SingleAgentEnvRunner object at 0x7a14e6484790>)\n",
            "           ^^^^^^^^^^^^^^^^^^^^^^^^^^^^^^^^^^^^\n",
            "           ^^^^^^^^^^^^^^^^^^^^^^^^^^^^^^^\n",
            "  File \"/usr/local/lib/python3.11/dist-packages/ray/rllib/env/single_agent_env_runner.py\", line 99, in __init__\n",
            "    self.make_env()\n",
            "           ^^^^^^^^^^^^^^^^^^^^^^^^^^^^^^^\n",
            "  File \"/usr/local/lib/python3.11/dist-packages/ray/rllib/env/single_agent_env_runner.py\", line 657, in make_env\n",
            "    gym.make_vec(\n",
            "  File \"/usr/local/lib/python3.11/dist-packages/gymnasium/envs/registration.py\", line 918, in make_vec\n",
            "    env = gym.vector.SyncVectorEnv(\n",
            "          ^^^^^^^^^^^^^^^^^^^^^^^^^\n",
            "  File \"/usr/local/lib/python3.11/dist-packages/gymnasium/vector/sync_vector_env.py\", line 86, in __init__\n",
            "    self.envs = [env_fn() for env_fn in env_fns]\n",
            "                ^^^^^^^^^^^^^^^^^^^^^^^^^^^^^^^^\n",
            "  File \"/usr/local/lib/python3.11/dist-packages/gymnasium/vector/sync_vector_env.py\", line 86, in <listcomp>\n",
            "    self.envs = [env_fn() for env_fn in env_fns]\n",
            "                 ^^^^^^^^\n",
            "  File \"/usr/local/lib/python3.11/dist-packages/gymnasium/envs/registration.py\", line 903, in create_single_env\n",
            "    single_env = make(env_spec, **env_spec_kwargs.copy())\n",
            "                 ^^^^^^^^^^^^^^^^^^^^^^^^^^^^^^^^^^^^^^^^\n",
            "  File \"/usr/local/lib/python3.11/dist-packages/gymnasium/envs/registration.py\", line 740, in make\n",
            "    env = env_creator(**env_spec_kwargs)\n",
            "          ^^^^^^^^^^^^^^^^^^^^^^^^^^^^^^\n",
            "  File \"<ipython-input-49-3d62c870fe1a>\", line 6, in create_env\n",
            "ImportError: cannot import name 'load_config' from 'mrl' (/usr/local/lib/python3.11/dist-packages/mrl/__init__.py)\n",
            "2025-04-22 17:08:45,753\tERROR env_runner_group.py:718 -- Validation of EnvRunner failed! Error=The actor died because of an error raised in its creation task, \u001b[36mray::SingleAgentEnvRunner.__init__()\u001b[39m (pid=10864, ip=172.28.0.12, actor_id=c47bbb93b19abe56a6e0562601000000, repr=<ray.rllib.env.single_agent_env_runner.SingleAgentEnvRunner object at 0x7f1b6a31d390>)\n",
            "           ^^^^^^^^^^^^^^^^^^^^^^^^^^^^^^^^^^^^\n",
            "           ^^^^^^^^^^^^^^^^^^^^^^^^^^^^^^^\n",
            "  File \"/usr/local/lib/python3.11/dist-packages/ray/rllib/env/single_agent_env_runner.py\", line 99, in __init__\n",
            "    self.make_env()\n",
            "           ^^^^^^^^^^^^^^^^^^^^^^^^^^^^^^^\n",
            "  File \"/usr/local/lib/python3.11/dist-packages/ray/rllib/env/single_agent_env_runner.py\", line 657, in make_env\n",
            "    gym.make_vec(\n",
            "  File \"/usr/local/lib/python3.11/dist-packages/gymnasium/envs/registration.py\", line 918, in make_vec\n",
            "    env = gym.vector.SyncVectorEnv(\n",
            "          ^^^^^^^^^^^^^^^^^^^^^^^^^\n",
            "  File \"/usr/local/lib/python3.11/dist-packages/gymnasium/vector/sync_vector_env.py\", line 86, in __init__\n",
            "    self.envs = [env_fn() for env_fn in env_fns]\n",
            "                ^^^^^^^^^^^^^^^^^^^^^^^^^^^^^^^^\n",
            "  File \"/usr/local/lib/python3.11/dist-packages/gymnasium/vector/sync_vector_env.py\", line 86, in <listcomp>\n",
            "    self.envs = [env_fn() for env_fn in env_fns]\n",
            "                 ^^^^^^^^\n",
            "  File \"/usr/local/lib/python3.11/dist-packages/gymnasium/envs/registration.py\", line 903, in create_single_env\n",
            "    single_env = make(env_spec, **env_spec_kwargs.copy())\n",
            "                 ^^^^^^^^^^^^^^^^^^^^^^^^^^^^^^^^^^^^^^^^\n",
            "  File \"/usr/local/lib/python3.11/dist-packages/gymnasium/envs/registration.py\", line 740, in make\n",
            "    env = env_creator(**env_spec_kwargs)\n",
            "          ^^^^^^^^^^^^^^^^^^^^^^^^^^^^^^\n",
            "  File \"<ipython-input-49-3d62c870fe1a>\", line 6, in create_env\n",
            "ImportError: cannot import name 'load_config' from 'mrl' (/usr/local/lib/python3.11/dist-packages/mrl/__init__.py)\n",
            "/usr/local/lib/python3.11/dist-packages/gymnasium/envs/registration.py:642: UserWarning: \u001b[33mWARN: Overriding environment rllib-single-agent-env-v0 already in registry.\u001b[0m\n",
            "  logger.warn(f\"Overriding environment {new_spec.id} already in registry.\")\n"
          ]
        },
        {
          "output_type": "error",
          "ename": "ImportError",
          "evalue": "cannot import name 'load_config' from 'mrl' (/usr/local/lib/python3.11/dist-packages/mrl/__init__.py)",
          "traceback": [
            "\u001b[0;31m---------------------------------------------------------------------------\u001b[0m",
            "\u001b[0;31mImportError\u001b[0m                               Traceback (most recent call last)",
            "\u001b[0;32m<ipython-input-49-3d62c870fe1a>\u001b[0m in \u001b[0;36m<cell line: 0>\u001b[0;34m()\u001b[0m\n\u001b[1;32m     15\u001b[0m \u001b[0;34m\u001b[0m\u001b[0m\n\u001b[1;32m     16\u001b[0m \u001b[0;31m# Passo 4: construir o agente\u001b[0m\u001b[0;34m\u001b[0m\u001b[0;34m\u001b[0m\u001b[0m\n\u001b[0;32m---> 17\u001b[0;31m \u001b[0malgo\u001b[0m \u001b[0;34m=\u001b[0m \u001b[0mconfig\u001b[0m\u001b[0;34m.\u001b[0m\u001b[0mbuild\u001b[0m\u001b[0;34m(\u001b[0m\u001b[0;34m)\u001b[0m\u001b[0;34m\u001b[0m\u001b[0;34m\u001b[0m\u001b[0m\n\u001b[0m\u001b[1;32m     18\u001b[0m \u001b[0;34m\u001b[0m\u001b[0m\n\u001b[1;32m     19\u001b[0m \u001b[0;31m# Passo 5: treinar o agente\u001b[0m\u001b[0;34m\u001b[0m\u001b[0;34m\u001b[0m\u001b[0m\n",
            "\u001b[0;32m/usr/local/lib/python3.11/dist-packages/ray/rllib/utils/deprecation.py\u001b[0m in \u001b[0;36m_ctor\u001b[0;34m(*args, **kwargs)\u001b[0m\n\u001b[1;32m    126\u001b[0m                 )\n\u001b[1;32m    127\u001b[0m             \u001b[0;31m# Call the deprecated method/function.\u001b[0m\u001b[0;34m\u001b[0m\u001b[0;34m\u001b[0m\u001b[0m\n\u001b[0;32m--> 128\u001b[0;31m             \u001b[0;32mreturn\u001b[0m \u001b[0mobj\u001b[0m\u001b[0;34m(\u001b[0m\u001b[0;34m*\u001b[0m\u001b[0margs\u001b[0m\u001b[0;34m,\u001b[0m \u001b[0;34m**\u001b[0m\u001b[0mkwargs\u001b[0m\u001b[0;34m)\u001b[0m\u001b[0;34m\u001b[0m\u001b[0;34m\u001b[0m\u001b[0m\n\u001b[0m\u001b[1;32m    129\u001b[0m \u001b[0;34m\u001b[0m\u001b[0m\n\u001b[1;32m    130\u001b[0m         \u001b[0;31m# Return the patched class method/function.\u001b[0m\u001b[0;34m\u001b[0m\u001b[0;34m\u001b[0m\u001b[0m\n",
            "\u001b[0;32m/usr/local/lib/python3.11/dist-packages/ray/rllib/algorithms/algorithm_config.py\u001b[0m in \u001b[0;36mbuild\u001b[0;34m(self, *args, **kwargs)\u001b[0m\n\u001b[1;32m   5416\u001b[0m     \u001b[0;34m@\u001b[0m\u001b[0mDeprecated\u001b[0m\u001b[0;34m(\u001b[0m\u001b[0mnew\u001b[0m\u001b[0;34m=\u001b[0m\u001b[0;34m\"AlgorithmConfig.build_algo\"\u001b[0m\u001b[0;34m,\u001b[0m \u001b[0merror\u001b[0m\u001b[0;34m=\u001b[0m\u001b[0;32mFalse\u001b[0m\u001b[0;34m)\u001b[0m\u001b[0;34m\u001b[0m\u001b[0;34m\u001b[0m\u001b[0m\n\u001b[1;32m   5417\u001b[0m     \u001b[0;32mdef\u001b[0m \u001b[0mbuild\u001b[0m\u001b[0;34m(\u001b[0m\u001b[0mself\u001b[0m\u001b[0;34m,\u001b[0m \u001b[0;34m*\u001b[0m\u001b[0margs\u001b[0m\u001b[0;34m,\u001b[0m \u001b[0;34m**\u001b[0m\u001b[0mkwargs\u001b[0m\u001b[0;34m)\u001b[0m\u001b[0;34m:\u001b[0m\u001b[0;34m\u001b[0m\u001b[0;34m\u001b[0m\u001b[0m\n\u001b[0;32m-> 5418\u001b[0;31m         \u001b[0;32mreturn\u001b[0m \u001b[0mself\u001b[0m\u001b[0;34m.\u001b[0m\u001b[0mbuild_algo\u001b[0m\u001b[0;34m(\u001b[0m\u001b[0;34m*\u001b[0m\u001b[0margs\u001b[0m\u001b[0;34m,\u001b[0m \u001b[0;34m**\u001b[0m\u001b[0mkwargs\u001b[0m\u001b[0;34m)\u001b[0m\u001b[0;34m\u001b[0m\u001b[0;34m\u001b[0m\u001b[0m\n\u001b[0m\u001b[1;32m   5419\u001b[0m \u001b[0;34m\u001b[0m\u001b[0m\n\u001b[1;32m   5420\u001b[0m     \u001b[0;34m@\u001b[0m\u001b[0mDeprecated\u001b[0m\u001b[0;34m(\u001b[0m\u001b[0mnew\u001b[0m\u001b[0;34m=\u001b[0m\u001b[0;34m\"AlgorithmConfig.get_multi_rl_module_spec()\"\u001b[0m\u001b[0;34m,\u001b[0m \u001b[0merror\u001b[0m\u001b[0;34m=\u001b[0m\u001b[0;32mTrue\u001b[0m\u001b[0;34m)\u001b[0m\u001b[0;34m\u001b[0m\u001b[0;34m\u001b[0m\u001b[0m\n",
            "\u001b[0;32m/usr/local/lib/python3.11/dist-packages/ray/rllib/algorithms/algorithm_config.py\u001b[0m in \u001b[0;36mbuild_algo\u001b[0;34m(self, env, logger_creator, use_copy)\u001b[0m\n\u001b[1;32m    956\u001b[0m             \u001b[0malgo_class\u001b[0m \u001b[0;34m=\u001b[0m \u001b[0mget_trainable_cls\u001b[0m\u001b[0;34m(\u001b[0m\u001b[0mself\u001b[0m\u001b[0;34m.\u001b[0m\u001b[0malgo_class\u001b[0m\u001b[0;34m)\u001b[0m\u001b[0;34m\u001b[0m\u001b[0;34m\u001b[0m\u001b[0m\n\u001b[1;32m    957\u001b[0m \u001b[0;34m\u001b[0m\u001b[0m\n\u001b[0;32m--> 958\u001b[0;31m         return algo_class(\n\u001b[0m\u001b[1;32m    959\u001b[0m             \u001b[0mconfig\u001b[0m\u001b[0;34m=\u001b[0m\u001b[0mself\u001b[0m \u001b[0;32mif\u001b[0m \u001b[0;32mnot\u001b[0m \u001b[0muse_copy\u001b[0m \u001b[0;32melse\u001b[0m \u001b[0mcopy\u001b[0m\u001b[0;34m.\u001b[0m\u001b[0mdeepcopy\u001b[0m\u001b[0;34m(\u001b[0m\u001b[0mself\u001b[0m\u001b[0;34m)\u001b[0m\u001b[0;34m,\u001b[0m\u001b[0;34m\u001b[0m\u001b[0;34m\u001b[0m\u001b[0m\n\u001b[1;32m    960\u001b[0m             \u001b[0mlogger_creator\u001b[0m\u001b[0;34m=\u001b[0m\u001b[0mself\u001b[0m\u001b[0;34m.\u001b[0m\u001b[0mlogger_creator\u001b[0m\u001b[0;34m,\u001b[0m\u001b[0;34m\u001b[0m\u001b[0;34m\u001b[0m\u001b[0m\n",
            "\u001b[0;32m/usr/local/lib/python3.11/dist-packages/ray/rllib/algorithms/algorithm.py\u001b[0m in \u001b[0;36m__init__\u001b[0;34m(self, config, env, logger_creator, **kwargs)\u001b[0m\n\u001b[1;32m    526\u001b[0m         \u001b[0mself\u001b[0m\u001b[0;34m.\u001b[0m\u001b[0meval_env_runner_group\u001b[0m\u001b[0;34m:\u001b[0m \u001b[0mOptional\u001b[0m\u001b[0;34m[\u001b[0m\u001b[0mEnvRunnerGroup\u001b[0m\u001b[0;34m]\u001b[0m \u001b[0;34m=\u001b[0m \u001b[0;32mNone\u001b[0m\u001b[0;34m\u001b[0m\u001b[0;34m\u001b[0m\u001b[0m\n\u001b[1;32m    527\u001b[0m \u001b[0;34m\u001b[0m\u001b[0m\n\u001b[0;32m--> 528\u001b[0;31m         super().__init__(\n\u001b[0m\u001b[1;32m    529\u001b[0m             \u001b[0mconfig\u001b[0m\u001b[0;34m=\u001b[0m\u001b[0mconfig\u001b[0m\u001b[0;34m,\u001b[0m\u001b[0;34m\u001b[0m\u001b[0;34m\u001b[0m\u001b[0m\n\u001b[1;32m    530\u001b[0m             \u001b[0mlogger_creator\u001b[0m\u001b[0;34m=\u001b[0m\u001b[0mlogger_creator\u001b[0m\u001b[0;34m,\u001b[0m\u001b[0;34m\u001b[0m\u001b[0;34m\u001b[0m\u001b[0m\n",
            "\u001b[0;32m/usr/local/lib/python3.11/dist-packages/ray/tune/trainable/trainable.py\u001b[0m in \u001b[0;36m__init__\u001b[0;34m(self, config, logger_creator, storage)\u001b[0m\n\u001b[1;32m    155\u001b[0m         \u001b[0mself\u001b[0m\u001b[0;34m.\u001b[0m\u001b[0m_open_logfiles\u001b[0m\u001b[0;34m(\u001b[0m\u001b[0mstdout_file\u001b[0m\u001b[0;34m,\u001b[0m \u001b[0mstderr_file\u001b[0m\u001b[0;34m)\u001b[0m\u001b[0;34m\u001b[0m\u001b[0;34m\u001b[0m\u001b[0m\n\u001b[1;32m    156\u001b[0m \u001b[0;34m\u001b[0m\u001b[0m\n\u001b[0;32m--> 157\u001b[0;31m         \u001b[0mself\u001b[0m\u001b[0;34m.\u001b[0m\u001b[0msetup\u001b[0m\u001b[0;34m(\u001b[0m\u001b[0mcopy\u001b[0m\u001b[0;34m.\u001b[0m\u001b[0mdeepcopy\u001b[0m\u001b[0;34m(\u001b[0m\u001b[0mself\u001b[0m\u001b[0;34m.\u001b[0m\u001b[0mconfig\u001b[0m\u001b[0;34m)\u001b[0m\u001b[0;34m)\u001b[0m\u001b[0;34m\u001b[0m\u001b[0;34m\u001b[0m\u001b[0m\n\u001b[0m\u001b[1;32m    158\u001b[0m         \u001b[0msetup_time\u001b[0m \u001b[0;34m=\u001b[0m \u001b[0mtime\u001b[0m\u001b[0;34m.\u001b[0m\u001b[0mtime\u001b[0m\u001b[0;34m(\u001b[0m\u001b[0;34m)\u001b[0m \u001b[0;34m-\u001b[0m \u001b[0mself\u001b[0m\u001b[0;34m.\u001b[0m\u001b[0m_start_time\u001b[0m\u001b[0;34m\u001b[0m\u001b[0;34m\u001b[0m\u001b[0m\n\u001b[1;32m    159\u001b[0m         \u001b[0;32mif\u001b[0m \u001b[0msetup_time\u001b[0m \u001b[0;34m>\u001b[0m \u001b[0mSETUP_TIME_THRESHOLD\u001b[0m\u001b[0;34m:\u001b[0m\u001b[0;34m\u001b[0m\u001b[0;34m\u001b[0m\u001b[0m\n",
            "\u001b[0;32m/usr/local/lib/python3.11/dist-packages/ray/rllib/algorithms/algorithm.py\u001b[0m in \u001b[0;36msetup\u001b[0;34m(self, config)\u001b[0m\n\u001b[1;32m    629\u001b[0m         \u001b[0;32mif\u001b[0m \u001b[0;32mnot\u001b[0m \u001b[0mself\u001b[0m\u001b[0;34m.\u001b[0m\u001b[0moffline_data\u001b[0m\u001b[0;34m:\u001b[0m\u001b[0;34m\u001b[0m\u001b[0;34m\u001b[0m\u001b[0m\n\u001b[1;32m    630\u001b[0m             \u001b[0;31m# Create a set of env runner actors via a EnvRunnerGroup.\u001b[0m\u001b[0;34m\u001b[0m\u001b[0;34m\u001b[0m\u001b[0m\n\u001b[0;32m--> 631\u001b[0;31m             self.env_runner_group = EnvRunnerGroup(\n\u001b[0m\u001b[1;32m    632\u001b[0m                 \u001b[0menv_creator\u001b[0m\u001b[0;34m=\u001b[0m\u001b[0mself\u001b[0m\u001b[0;34m.\u001b[0m\u001b[0menv_creator\u001b[0m\u001b[0;34m,\u001b[0m\u001b[0;34m\u001b[0m\u001b[0;34m\u001b[0m\u001b[0m\n\u001b[1;32m    633\u001b[0m                 \u001b[0mvalidate_env\u001b[0m\u001b[0;34m=\u001b[0m\u001b[0mself\u001b[0m\u001b[0;34m.\u001b[0m\u001b[0mvalidate_env\u001b[0m\u001b[0;34m,\u001b[0m\u001b[0;34m\u001b[0m\u001b[0;34m\u001b[0m\u001b[0m\n",
            "\u001b[0;32m/usr/local/lib/python3.11/dist-packages/ray/rllib/env/env_runner_group.py\u001b[0m in \u001b[0;36m__init__\u001b[0;34m(self, env_creator, validate_env, default_policy_class, config, local_env_runner, logdir, _setup, tune_trial_id, pg_offset, num_env_runners, num_workers, local_worker)\u001b[0m\n\u001b[1;32m    196\u001b[0m         \u001b[0;32mif\u001b[0m \u001b[0m_setup\u001b[0m\u001b[0;34m:\u001b[0m\u001b[0;34m\u001b[0m\u001b[0;34m\u001b[0m\u001b[0m\n\u001b[1;32m    197\u001b[0m             \u001b[0;32mtry\u001b[0m\u001b[0;34m:\u001b[0m\u001b[0;34m\u001b[0m\u001b[0;34m\u001b[0m\u001b[0m\n\u001b[0;32m--> 198\u001b[0;31m                 self._setup(\n\u001b[0m\u001b[1;32m    199\u001b[0m                     \u001b[0mvalidate_env\u001b[0m\u001b[0;34m=\u001b[0m\u001b[0mvalidate_env\u001b[0m\u001b[0;34m,\u001b[0m\u001b[0;34m\u001b[0m\u001b[0;34m\u001b[0m\u001b[0m\n\u001b[1;32m    200\u001b[0m                     \u001b[0mconfig\u001b[0m\u001b[0;34m=\u001b[0m\u001b[0mconfig\u001b[0m\u001b[0;34m,\u001b[0m\u001b[0;34m\u001b[0m\u001b[0;34m\u001b[0m\u001b[0m\n",
            "\u001b[0;32m/usr/local/lib/python3.11/dist-packages/ray/rllib/env/env_runner_group.py\u001b[0m in \u001b[0;36m_setup\u001b[0;34m(self, validate_env, config, num_env_runners, local_env_runner)\u001b[0m\n\u001b[1;32m    291\u001b[0m         \u001b[0;31m# Create a local worker, if needed.\u001b[0m\u001b[0;34m\u001b[0m\u001b[0;34m\u001b[0m\u001b[0m\n\u001b[1;32m    292\u001b[0m         \u001b[0;32mif\u001b[0m \u001b[0mlocal_env_runner\u001b[0m\u001b[0;34m:\u001b[0m\u001b[0;34m\u001b[0m\u001b[0;34m\u001b[0m\u001b[0m\n\u001b[0;32m--> 293\u001b[0;31m             self._local_env_runner = self._make_worker(\n\u001b[0m\u001b[1;32m    294\u001b[0m                 \u001b[0menv_creator\u001b[0m\u001b[0;34m=\u001b[0m\u001b[0mself\u001b[0m\u001b[0;34m.\u001b[0m\u001b[0m_env_creator\u001b[0m\u001b[0;34m,\u001b[0m\u001b[0;34m\u001b[0m\u001b[0;34m\u001b[0m\u001b[0m\n\u001b[1;32m    295\u001b[0m                 \u001b[0mvalidate_env\u001b[0m\u001b[0;34m=\u001b[0m\u001b[0mvalidate_env\u001b[0m\u001b[0;34m,\u001b[0m\u001b[0;34m\u001b[0m\u001b[0;34m\u001b[0m\u001b[0m\n",
            "\u001b[0;32m/usr/local/lib/python3.11/dist-packages/ray/rllib/env/env_runner_group.py\u001b[0m in \u001b[0;36m_make_worker\u001b[0;34m(self, env_creator, validate_env, worker_index, num_workers, recreated_worker, config, spaces)\u001b[0m\n\u001b[1;32m   1250\u001b[0m \u001b[0;34m\u001b[0m\u001b[0m\n\u001b[1;32m   1251\u001b[0m         \u001b[0;32mif\u001b[0m \u001b[0mworker_index\u001b[0m \u001b[0;34m==\u001b[0m \u001b[0;36m0\u001b[0m\u001b[0;34m:\u001b[0m\u001b[0;34m\u001b[0m\u001b[0;34m\u001b[0m\u001b[0m\n\u001b[0;32m-> 1252\u001b[0;31m             \u001b[0;32mreturn\u001b[0m \u001b[0mself\u001b[0m\u001b[0;34m.\u001b[0m\u001b[0menv_runner_cls\u001b[0m\u001b[0;34m(\u001b[0m\u001b[0;34m**\u001b[0m\u001b[0mkwargs\u001b[0m\u001b[0;34m)\u001b[0m\u001b[0;34m\u001b[0m\u001b[0;34m\u001b[0m\u001b[0m\n\u001b[0m\u001b[1;32m   1253\u001b[0m \u001b[0;34m\u001b[0m\u001b[0m\n\u001b[1;32m   1254\u001b[0m         pg_bundle_idx = (\n",
            "\u001b[0;32m/usr/local/lib/python3.11/dist-packages/ray/rllib/env/single_agent_env_runner.py\u001b[0m in \u001b[0;36m__init__\u001b[0;34m(self, config, **kwargs)\u001b[0m\n\u001b[1;32m     97\u001b[0m         \u001b[0mself\u001b[0m\u001b[0;34m.\u001b[0m\u001b[0menv\u001b[0m\u001b[0;34m:\u001b[0m \u001b[0mOptional\u001b[0m\u001b[0;34m[\u001b[0m\u001b[0mgym\u001b[0m\u001b[0;34m.\u001b[0m\u001b[0mvector\u001b[0m\u001b[0;34m.\u001b[0m\u001b[0mVectorEnvWrapper\u001b[0m\u001b[0;34m]\u001b[0m \u001b[0;34m=\u001b[0m \u001b[0;32mNone\u001b[0m\u001b[0;34m\u001b[0m\u001b[0;34m\u001b[0m\u001b[0m\n\u001b[1;32m     98\u001b[0m         \u001b[0mself\u001b[0m\u001b[0;34m.\u001b[0m\u001b[0mnum_envs\u001b[0m\u001b[0;34m:\u001b[0m \u001b[0mint\u001b[0m \u001b[0;34m=\u001b[0m \u001b[0;36m0\u001b[0m\u001b[0;34m\u001b[0m\u001b[0;34m\u001b[0m\u001b[0m\n\u001b[0;32m---> 99\u001b[0;31m         \u001b[0mself\u001b[0m\u001b[0;34m.\u001b[0m\u001b[0mmake_env\u001b[0m\u001b[0;34m(\u001b[0m\u001b[0;34m)\u001b[0m\u001b[0;34m\u001b[0m\u001b[0;34m\u001b[0m\u001b[0m\n\u001b[0m\u001b[1;32m    100\u001b[0m \u001b[0;34m\u001b[0m\u001b[0m\n\u001b[1;32m    101\u001b[0m         \u001b[0;31m# Create the env-to-module connector pipeline.\u001b[0m\u001b[0;34m\u001b[0m\u001b[0;34m\u001b[0m\u001b[0m\n",
            "\u001b[0;32m/usr/local/lib/python3.11/dist-packages/ray/rllib/env/single_agent_env_runner.py\u001b[0m in \u001b[0;36mmake_env\u001b[0;34m(self)\u001b[0m\n\u001b[1;32m    655\u001b[0m \u001b[0;34m\u001b[0m\u001b[0m\n\u001b[1;32m    656\u001b[0m         self.env = DictInfoToList(\n\u001b[0;32m--> 657\u001b[0;31m             gym.make_vec(\n\u001b[0m\u001b[1;32m    658\u001b[0m                 \u001b[0;34m\"rllib-single-agent-env-v0\"\u001b[0m\u001b[0;34m,\u001b[0m\u001b[0;34m\u001b[0m\u001b[0;34m\u001b[0m\u001b[0m\n\u001b[1;32m    659\u001b[0m                 \u001b[0mnum_envs\u001b[0m\u001b[0;34m=\u001b[0m\u001b[0mself\u001b[0m\u001b[0;34m.\u001b[0m\u001b[0mconfig\u001b[0m\u001b[0;34m.\u001b[0m\u001b[0mnum_envs_per_env_runner\u001b[0m\u001b[0;34m,\u001b[0m\u001b[0;34m\u001b[0m\u001b[0;34m\u001b[0m\u001b[0m\n",
            "\u001b[0;32m/usr/local/lib/python3.11/dist-packages/gymnasium/envs/registration.py\u001b[0m in \u001b[0;36mmake_vec\u001b[0;34m(id, num_envs, vectorization_mode, vector_kwargs, wrappers, **kwargs)\u001b[0m\n\u001b[1;32m    916\u001b[0m             )\n\u001b[1;32m    917\u001b[0m \u001b[0;34m\u001b[0m\u001b[0m\n\u001b[0;32m--> 918\u001b[0;31m         env = gym.vector.SyncVectorEnv(\n\u001b[0m\u001b[1;32m    919\u001b[0m             \u001b[0menv_fns\u001b[0m\u001b[0;34m=\u001b[0m\u001b[0;34m(\u001b[0m\u001b[0mcreate_single_env\u001b[0m \u001b[0;32mfor\u001b[0m \u001b[0m_\u001b[0m \u001b[0;32min\u001b[0m \u001b[0mrange\u001b[0m\u001b[0;34m(\u001b[0m\u001b[0mnum_envs\u001b[0m\u001b[0;34m)\u001b[0m\u001b[0;34m)\u001b[0m\u001b[0;34m,\u001b[0m\u001b[0;34m\u001b[0m\u001b[0;34m\u001b[0m\u001b[0m\n\u001b[1;32m    920\u001b[0m             \u001b[0;34m**\u001b[0m\u001b[0mvector_kwargs\u001b[0m\u001b[0;34m,\u001b[0m\u001b[0;34m\u001b[0m\u001b[0;34m\u001b[0m\u001b[0m\n",
            "\u001b[0;32m/usr/local/lib/python3.11/dist-packages/gymnasium/vector/sync_vector_env.py\u001b[0m in \u001b[0;36m__init__\u001b[0;34m(self, env_fns, copy, observation_mode)\u001b[0m\n\u001b[1;32m     84\u001b[0m \u001b[0;34m\u001b[0m\u001b[0m\n\u001b[1;32m     85\u001b[0m         \u001b[0;31m# Initialise all sub-environments\u001b[0m\u001b[0;34m\u001b[0m\u001b[0;34m\u001b[0m\u001b[0m\n\u001b[0;32m---> 86\u001b[0;31m         \u001b[0mself\u001b[0m\u001b[0;34m.\u001b[0m\u001b[0menvs\u001b[0m \u001b[0;34m=\u001b[0m \u001b[0;34m[\u001b[0m\u001b[0menv_fn\u001b[0m\u001b[0;34m(\u001b[0m\u001b[0;34m)\u001b[0m \u001b[0;32mfor\u001b[0m \u001b[0menv_fn\u001b[0m \u001b[0;32min\u001b[0m \u001b[0menv_fns\u001b[0m\u001b[0;34m]\u001b[0m\u001b[0;34m\u001b[0m\u001b[0;34m\u001b[0m\u001b[0m\n\u001b[0m\u001b[1;32m     87\u001b[0m \u001b[0;34m\u001b[0m\u001b[0m\n\u001b[1;32m     88\u001b[0m         \u001b[0;31m# Define core attributes using the sub-environments\u001b[0m\u001b[0;34m\u001b[0m\u001b[0;34m\u001b[0m\u001b[0m\n",
            "\u001b[0;32m/usr/local/lib/python3.11/dist-packages/gymnasium/vector/sync_vector_env.py\u001b[0m in \u001b[0;36m<listcomp>\u001b[0;34m(.0)\u001b[0m\n\u001b[1;32m     84\u001b[0m \u001b[0;34m\u001b[0m\u001b[0m\n\u001b[1;32m     85\u001b[0m         \u001b[0;31m# Initialise all sub-environments\u001b[0m\u001b[0;34m\u001b[0m\u001b[0;34m\u001b[0m\u001b[0m\n\u001b[0;32m---> 86\u001b[0;31m         \u001b[0mself\u001b[0m\u001b[0;34m.\u001b[0m\u001b[0menvs\u001b[0m \u001b[0;34m=\u001b[0m \u001b[0;34m[\u001b[0m\u001b[0menv_fn\u001b[0m\u001b[0;34m(\u001b[0m\u001b[0;34m)\u001b[0m \u001b[0;32mfor\u001b[0m \u001b[0menv_fn\u001b[0m \u001b[0;32min\u001b[0m \u001b[0menv_fns\u001b[0m\u001b[0;34m]\u001b[0m\u001b[0;34m\u001b[0m\u001b[0;34m\u001b[0m\u001b[0m\n\u001b[0m\u001b[1;32m     87\u001b[0m \u001b[0;34m\u001b[0m\u001b[0m\n\u001b[1;32m     88\u001b[0m         \u001b[0;31m# Define core attributes using the sub-environments\u001b[0m\u001b[0;34m\u001b[0m\u001b[0;34m\u001b[0m\u001b[0m\n",
            "\u001b[0;32m/usr/local/lib/python3.11/dist-packages/gymnasium/envs/registration.py\u001b[0m in \u001b[0;36mcreate_single_env\u001b[0;34m()\u001b[0m\n\u001b[1;32m    901\u001b[0m \u001b[0;34m\u001b[0m\u001b[0m\n\u001b[1;32m    902\u001b[0m     \u001b[0;32mdef\u001b[0m \u001b[0mcreate_single_env\u001b[0m\u001b[0;34m(\u001b[0m\u001b[0;34m)\u001b[0m \u001b[0;34m->\u001b[0m \u001b[0mEnv\u001b[0m\u001b[0;34m:\u001b[0m\u001b[0;34m\u001b[0m\u001b[0;34m\u001b[0m\u001b[0m\n\u001b[0;32m--> 903\u001b[0;31m         \u001b[0msingle_env\u001b[0m \u001b[0;34m=\u001b[0m \u001b[0mmake\u001b[0m\u001b[0;34m(\u001b[0m\u001b[0menv_spec\u001b[0m\u001b[0;34m,\u001b[0m \u001b[0;34m**\u001b[0m\u001b[0menv_spec_kwargs\u001b[0m\u001b[0;34m.\u001b[0m\u001b[0mcopy\u001b[0m\u001b[0;34m(\u001b[0m\u001b[0;34m)\u001b[0m\u001b[0;34m)\u001b[0m\u001b[0;34m\u001b[0m\u001b[0;34m\u001b[0m\u001b[0m\n\u001b[0m\u001b[1;32m    904\u001b[0m \u001b[0;34m\u001b[0m\u001b[0m\n\u001b[1;32m    905\u001b[0m         \u001b[0;32mif\u001b[0m \u001b[0mwrappers\u001b[0m \u001b[0;32mis\u001b[0m \u001b[0;32mNone\u001b[0m\u001b[0;34m:\u001b[0m\u001b[0;34m\u001b[0m\u001b[0;34m\u001b[0m\u001b[0m\n",
            "\u001b[0;32m/usr/local/lib/python3.11/dist-packages/gymnasium/envs/registration.py\u001b[0m in \u001b[0;36mmake\u001b[0;34m(id, max_episode_steps, disable_env_checker, **kwargs)\u001b[0m\n\u001b[1;32m    738\u001b[0m \u001b[0;34m\u001b[0m\u001b[0m\n\u001b[1;32m    739\u001b[0m     \u001b[0;32mtry\u001b[0m\u001b[0;34m:\u001b[0m\u001b[0;34m\u001b[0m\u001b[0;34m\u001b[0m\u001b[0m\n\u001b[0;32m--> 740\u001b[0;31m         \u001b[0menv\u001b[0m \u001b[0;34m=\u001b[0m \u001b[0menv_creator\u001b[0m\u001b[0;34m(\u001b[0m\u001b[0;34m**\u001b[0m\u001b[0menv_spec_kwargs\u001b[0m\u001b[0;34m)\u001b[0m\u001b[0;34m\u001b[0m\u001b[0;34m\u001b[0m\u001b[0m\n\u001b[0m\u001b[1;32m    741\u001b[0m     \u001b[0;32mexcept\u001b[0m \u001b[0mTypeError\u001b[0m \u001b[0;32mas\u001b[0m \u001b[0me\u001b[0m\u001b[0;34m:\u001b[0m\u001b[0;34m\u001b[0m\u001b[0;34m\u001b[0m\u001b[0m\n\u001b[1;32m    742\u001b[0m         if (\n",
            "\u001b[0;32m<ipython-input-49-3d62c870fe1a>\u001b[0m in \u001b[0;36mcreate_env\u001b[0;34m(config)\u001b[0m\n\u001b[1;32m      4\u001b[0m \u001b[0;31m# Passo 1: definir função que cria o ambiente\u001b[0m\u001b[0;34m\u001b[0m\u001b[0;34m\u001b[0m\u001b[0m\n\u001b[1;32m      5\u001b[0m \u001b[0;32mdef\u001b[0m \u001b[0mcreate_env\u001b[0m\u001b[0;34m(\u001b[0m\u001b[0mconfig\u001b[0m\u001b[0;34m)\u001b[0m\u001b[0;34m:\u001b[0m\u001b[0;34m\u001b[0m\u001b[0;34m\u001b[0m\u001b[0m\n\u001b[0;32m----> 6\u001b[0;31m     \u001b[0;32mfrom\u001b[0m \u001b[0mmrl\u001b[0m \u001b[0;32mimport\u001b[0m \u001b[0mload_config\u001b[0m\u001b[0;34m\u001b[0m\u001b[0;34m\u001b[0m\u001b[0m\n\u001b[0m\u001b[1;32m      7\u001b[0m     \u001b[0mcfg\u001b[0m \u001b[0;34m=\u001b[0m \u001b[0mload_config\u001b[0m\u001b[0;34m(\u001b[0m\u001b[0;34m'proteins/amp'\u001b[0m\u001b[0;34m)\u001b[0m\u001b[0;34m\u001b[0m\u001b[0;34m\u001b[0m\u001b[0m\n\u001b[1;32m      8\u001b[0m     \u001b[0;32mreturn\u001b[0m \u001b[0mcfg\u001b[0m\u001b[0;34m.\u001b[0m\u001b[0mmake_env\u001b[0m\u001b[0;34m(\u001b[0m\u001b[0;34m)\u001b[0m\u001b[0;34m\u001b[0m\u001b[0;34m\u001b[0m\u001b[0m\n",
            "\u001b[0;31mImportError\u001b[0m: cannot import name 'load_config' from 'mrl' (/usr/local/lib/python3.11/dist-packages/mrl/__init__.py)",
            "",
            "\u001b[0;31m---------------------------------------------------------------------------\u001b[0;32m\nNOTE: If your import is failing due to a missing package, you can\nmanually install dependencies using either !pip or !apt.\n\nTo view examples of installing some common dependencies, click the\n\"Open Examples\" button below.\n\u001b[0;31m---------------------------------------------------------------------------\u001b[0m\n"
          ],
          "errorDetails": {
            "actions": [
              {
                "action": "open_url",
                "actionText": "Open Examples",
                "url": "/notebooks/snippets/importing_libraries.ipynb"
              }
            ]
          }
        }
      ],
      "source": [
        "from ray.rllib.algorithms.ppo import PPOConfig\n",
        "from ray.tune.registry import register_env\n",
        "\n",
        "# Passo 1: definir função que cria o ambiente\n",
        "def create_env(config):\n",
        "    from mrl import load_config\n",
        "    cfg = load_config('proteins/amp')\n",
        "    return cfg.make_env()\n",
        "\n",
        "# Passo 2: registrar essa função no Ray\n",
        "register_env(\"amp_env\", create_env)\n",
        "\n",
        "# Passo 3: configurar e construir o agente PPO\n",
        "config = PPOConfig().environment(\"amp_env\").framework(\"torch\")\n",
        "\n",
        "# Passo 4: construir o agente\n",
        "algo = config.build()\n",
        "\n",
        "# Passo 5: treinar o agente\n",
        "for i in range(75):\n",
        "    result = algo.train()\n",
        "    print(f\"Iteração {i} | Recompensa média: {result['episode_reward_mean']}\")\n"
      ]
    },
    {
      "cell_type": "code",
      "execution_count": null,
      "metadata": {
        "id": "-nhAvQ3jbhNd"
      },
      "outputs": [],
      "source": [
        "env.log.plot_metrics()"
      ]
    },
    {
      "cell_type": "markdown",
      "metadata": {
        "id": "LWdCv_8nbhNd"
      },
      "source": [
        "## Evaluation\n",
        "\n",
        "Looking at high scoring sequences, we see many sequences contain with a high concentration of `K` residues. These features likely come from a small number of dataset samples with high `K` contents. For example, `AATKPKKAGAEAAPKKPAKKQTKKKPAKKAGGKKKPKRAGAKKAKK` is a AMP sequence in the dataset.\n",
        "\n",
        "If these traits are undesirable, they can be controlled by updating the `Template` to limit other residues the same way we limited `A` residues."
      ]
    },
    {
      "cell_type": "code",
      "execution_count": null,
      "metadata": {
        "id": "9OXfyd6lbhNd"
      },
      "outputs": [],
      "source": [
        "env.log.df[env.log.df.rewards>9.8]"
      ]
    },
    {
      "cell_type": "code",
      "execution_count": null,
      "metadata": {
        "id": "odQJlmsqbhNe"
      },
      "outputs": [],
      "source": [
        "aas = ['G', 'V', 'I', 'K']\n",
        "\n",
        "fig, axes = plt.subplots(2,2, figsize=(12,8))\n",
        "\n",
        "for i, ax in enumerate(axes.flat):\n",
        "    if i<len(aas):\n",
        "        env.log.df[env.log.df.rewards>9.].samples.map(\n",
        "            lambda x: x.count(aas[i])/len(x)).hist(density=True, alpha=0.5, label=f'Generated {aas[i]} Counts',\n",
        "                                                  ax=ax)\n",
        "        df[df.label==1].sequence.map(\n",
        "            lambda x: x.count(aas[i])/len(x)).hist(density=True, alpha=0.5, label=f'Dataset {aas[i]} Counts',\n",
        "                                                  ax=ax)\n",
        "        ax.legend()\n",
        "    else:\n",
        "        ax.axis('off')"
      ]
    },
    {
      "cell_type": "code",
      "execution_count": null,
      "metadata": {
        "id": "5ePENI5EbhNe"
      },
      "outputs": [],
      "source": []
    }
  ],
  "metadata": {
    "kernelspec": {
      "display_name": "Python 3",
      "language": "python",
      "name": "python3"
    },
    "colab": {
      "provenance": [],
      "include_colab_link": true
    }
  },
  "nbformat": 4,
  "nbformat_minor": 0
}